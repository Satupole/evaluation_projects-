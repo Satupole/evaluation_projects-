{
 "cells": [
  {
   "cell_type": "markdown",
   "id": "f586f5d5",
   "metadata": {},
   "source": [
    "Loan Application Status Prediction\n",
    "Problem Statement:\n",
    "This dataset includes details of applicants who have applied for loan. The dataset includes details like credit history, loan amount, their income, dependents etc. \n",
    "\n",
    "Independent Variables:\n",
    "\n",
    "- Loan_ID\n",
    "\n",
    "- Gender\n",
    "\n",
    "- Married\n",
    "\n",
    "- Dependents\n",
    "\n",
    "- Education\n",
    "\n",
    "- Self_Employed\n",
    "\n",
    "- ApplicantIncome\n",
    "\n",
    "- CoapplicantIncome\n",
    "\n",
    "- Loan_Amount\n",
    "\n",
    "- Loan_Amount_Term\n",
    "\n",
    "- Credit History\n",
    "\n",
    "- Property_Area\n",
    "\n",
    "Dependent Variable (Target Variable):\n",
    "\n",
    "- Loan_Status\n",
    "\n",
    "You have to build a model that can predict whether the loan of the applicant will be approved or not on the basis of the details provided in the dataset. "
   ]
  },
  {
   "cell_type": "code",
   "execution_count": 243,
   "id": "a29e1146",
   "metadata": {},
   "outputs": [],
   "source": [
    "#importing libraries for pandas and numpy\n",
    "import pandas as pd\n",
    "import numpy as np\n",
    "\n",
    "#importing library to plot data\n",
    "import seaborn as sns\n",
    "import matplotlib.pyplot as plt\n",
    "%matplotlib inline\n",
    "\n",
    "#importing warnings\n",
    "import warnings\n",
    "warnings.filterwarnings('ignore')"
   ]
  },
  {
   "cell_type": "code",
   "execution_count": 244,
   "id": "687d1391",
   "metadata": {
    "scrolled": true
   },
   "outputs": [
    {
     "data": {
      "text/html": [
       "<div>\n",
       "<style scoped>\n",
       "    .dataframe tbody tr th:only-of-type {\n",
       "        vertical-align: middle;\n",
       "    }\n",
       "\n",
       "    .dataframe tbody tr th {\n",
       "        vertical-align: top;\n",
       "    }\n",
       "\n",
       "    .dataframe thead th {\n",
       "        text-align: right;\n",
       "    }\n",
       "</style>\n",
       "<table border=\"1\" class=\"dataframe\">\n",
       "  <thead>\n",
       "    <tr style=\"text-align: right;\">\n",
       "      <th></th>\n",
       "      <th>Loan_ID</th>\n",
       "      <th>Gender</th>\n",
       "      <th>Married</th>\n",
       "      <th>Dependents</th>\n",
       "      <th>Education</th>\n",
       "      <th>Self_Employed</th>\n",
       "      <th>ApplicantIncome</th>\n",
       "      <th>CoapplicantIncome</th>\n",
       "      <th>LoanAmount</th>\n",
       "      <th>Loan_Amount_Term</th>\n",
       "      <th>Credit_History</th>\n",
       "      <th>Property_Area</th>\n",
       "      <th>Loan_Status</th>\n",
       "    </tr>\n",
       "  </thead>\n",
       "  <tbody>\n",
       "    <tr>\n",
       "      <th>0</th>\n",
       "      <td>LP001002</td>\n",
       "      <td>Male</td>\n",
       "      <td>No</td>\n",
       "      <td>0</td>\n",
       "      <td>Graduate</td>\n",
       "      <td>No</td>\n",
       "      <td>5849</td>\n",
       "      <td>0.0</td>\n",
       "      <td>NaN</td>\n",
       "      <td>360.0</td>\n",
       "      <td>1.0</td>\n",
       "      <td>Urban</td>\n",
       "      <td>Y</td>\n",
       "    </tr>\n",
       "    <tr>\n",
       "      <th>1</th>\n",
       "      <td>LP001003</td>\n",
       "      <td>Male</td>\n",
       "      <td>Yes</td>\n",
       "      <td>1</td>\n",
       "      <td>Graduate</td>\n",
       "      <td>No</td>\n",
       "      <td>4583</td>\n",
       "      <td>1508.0</td>\n",
       "      <td>128.0</td>\n",
       "      <td>360.0</td>\n",
       "      <td>1.0</td>\n",
       "      <td>Rural</td>\n",
       "      <td>N</td>\n",
       "    </tr>\n",
       "    <tr>\n",
       "      <th>2</th>\n",
       "      <td>LP001005</td>\n",
       "      <td>Male</td>\n",
       "      <td>Yes</td>\n",
       "      <td>0</td>\n",
       "      <td>Graduate</td>\n",
       "      <td>Yes</td>\n",
       "      <td>3000</td>\n",
       "      <td>0.0</td>\n",
       "      <td>66.0</td>\n",
       "      <td>360.0</td>\n",
       "      <td>1.0</td>\n",
       "      <td>Urban</td>\n",
       "      <td>Y</td>\n",
       "    </tr>\n",
       "    <tr>\n",
       "      <th>3</th>\n",
       "      <td>LP001006</td>\n",
       "      <td>Male</td>\n",
       "      <td>Yes</td>\n",
       "      <td>0</td>\n",
       "      <td>Not Graduate</td>\n",
       "      <td>No</td>\n",
       "      <td>2583</td>\n",
       "      <td>2358.0</td>\n",
       "      <td>120.0</td>\n",
       "      <td>360.0</td>\n",
       "      <td>1.0</td>\n",
       "      <td>Urban</td>\n",
       "      <td>Y</td>\n",
       "    </tr>\n",
       "    <tr>\n",
       "      <th>4</th>\n",
       "      <td>LP001008</td>\n",
       "      <td>Male</td>\n",
       "      <td>No</td>\n",
       "      <td>0</td>\n",
       "      <td>Graduate</td>\n",
       "      <td>No</td>\n",
       "      <td>6000</td>\n",
       "      <td>0.0</td>\n",
       "      <td>141.0</td>\n",
       "      <td>360.0</td>\n",
       "      <td>1.0</td>\n",
       "      <td>Urban</td>\n",
       "      <td>Y</td>\n",
       "    </tr>\n",
       "  </tbody>\n",
       "</table>\n",
       "</div>"
      ],
      "text/plain": [
       "    Loan_ID Gender Married Dependents     Education Self_Employed  \\\n",
       "0  LP001002   Male      No          0      Graduate            No   \n",
       "1  LP001003   Male     Yes          1      Graduate            No   \n",
       "2  LP001005   Male     Yes          0      Graduate           Yes   \n",
       "3  LP001006   Male     Yes          0  Not Graduate            No   \n",
       "4  LP001008   Male      No          0      Graduate            No   \n",
       "\n",
       "   ApplicantIncome  CoapplicantIncome  LoanAmount  Loan_Amount_Term  \\\n",
       "0             5849                0.0         NaN             360.0   \n",
       "1             4583             1508.0       128.0             360.0   \n",
       "2             3000                0.0        66.0             360.0   \n",
       "3             2583             2358.0       120.0             360.0   \n",
       "4             6000                0.0       141.0             360.0   \n",
       "\n",
       "   Credit_History Property_Area Loan_Status  \n",
       "0             1.0         Urban           Y  \n",
       "1             1.0         Rural           N  \n",
       "2             1.0         Urban           Y  \n",
       "3             1.0         Urban           Y  \n",
       "4             1.0         Urban           Y  "
      ]
     },
     "execution_count": 244,
     "metadata": {},
     "output_type": "execute_result"
    }
   ],
   "source": [
    "#imputing csv file as dataframe\n",
    "\n",
    "data=pd.read_csv('loan_prediction.csv')\n",
    "data.head()"
   ]
  },
  {
   "cell_type": "code",
   "execution_count": 245,
   "id": "7fa45d79",
   "metadata": {},
   "outputs": [
    {
     "data": {
      "text/plain": [
       "(614, 13)"
      ]
     },
     "execution_count": 245,
     "metadata": {},
     "output_type": "execute_result"
    }
   ],
   "source": [
    "#checking shape of the dataset\n",
    "\n",
    "data.shape"
   ]
  },
  {
   "cell_type": "code",
   "execution_count": 246,
   "id": "49db98d0",
   "metadata": {
    "scrolled": true
   },
   "outputs": [
    {
     "data": {
      "text/plain": [
       "Index(['Loan_ID', 'Gender', 'Married', 'Dependents', 'Education',\n",
       "       'Self_Employed', 'ApplicantIncome', 'CoapplicantIncome', 'LoanAmount',\n",
       "       'Loan_Amount_Term', 'Credit_History', 'Property_Area', 'Loan_Status'],\n",
       "      dtype='object')"
      ]
     },
     "execution_count": 246,
     "metadata": {},
     "output_type": "execute_result"
    }
   ],
   "source": [
    "#column names in dataset\n",
    "\n",
    "data.columns"
   ]
  },
  {
   "cell_type": "markdown",
   "id": "50f1e394",
   "metadata": {},
   "source": [
    "**Checking for duplicate values in dataset.**"
   ]
  },
  {
   "cell_type": "code",
   "execution_count": 247,
   "id": "777f933e",
   "metadata": {},
   "outputs": [
    {
     "data": {
      "text/plain": [
       "0"
      ]
     },
     "execution_count": 247,
     "metadata": {},
     "output_type": "execute_result"
    }
   ],
   "source": [
    "data.duplicated().sum()"
   ]
  },
  {
   "cell_type": "code",
   "execution_count": 248,
   "id": "93925cea",
   "metadata": {},
   "outputs": [
    {
     "data": {
      "text/plain": [
       "Loan_ID               0\n",
       "Gender               13\n",
       "Married               3\n",
       "Dependents           15\n",
       "Education             0\n",
       "Self_Employed        32\n",
       "ApplicantIncome       0\n",
       "CoapplicantIncome     0\n",
       "LoanAmount           22\n",
       "Loan_Amount_Term     14\n",
       "Credit_History       50\n",
       "Property_Area         0\n",
       "Loan_Status           0\n",
       "dtype: int64"
      ]
     },
     "execution_count": 248,
     "metadata": {},
     "output_type": "execute_result"
    }
   ],
   "source": [
    "#checking for null values in dataset\n",
    "\n",
    "data.isnull().sum()"
   ]
  },
  {
   "cell_type": "code",
   "execution_count": 249,
   "id": "017ffd42",
   "metadata": {},
   "outputs": [
    {
     "data": {
      "text/plain": [
       "array(['Male', 'Female', nan], dtype=object)"
      ]
     },
     "execution_count": 249,
     "metadata": {},
     "output_type": "execute_result"
    }
   ],
   "source": [
    "#checking for unique values in Gender column\n",
    "\n",
    "data['Gender'].unique()"
   ]
  },
  {
   "cell_type": "code",
   "execution_count": 250,
   "id": "a28d099c",
   "metadata": {},
   "outputs": [
    {
     "data": {
      "text/plain": [
       "0    Male\n",
       "Name: Gender, dtype: object"
      ]
     },
     "execution_count": 250,
     "metadata": {},
     "output_type": "execute_result"
    }
   ],
   "source": [
    "#checking for mode value in Gender column\n",
    "\n",
    "data['Gender'].mode()"
   ]
  },
  {
   "cell_type": "code",
   "execution_count": 251,
   "id": "b26043d7",
   "metadata": {},
   "outputs": [
    {
     "data": {
      "text/plain": [
       "array(['No', 'Yes', nan], dtype=object)"
      ]
     },
     "execution_count": 251,
     "metadata": {},
     "output_type": "execute_result"
    }
   ],
   "source": [
    "#checking for unique values in Married column\n",
    "\n",
    "data['Married'].unique()"
   ]
  },
  {
   "cell_type": "code",
   "execution_count": 252,
   "id": "db77d607",
   "metadata": {},
   "outputs": [
    {
     "data": {
      "text/plain": [
       "0    Yes\n",
       "Name: Married, dtype: object"
      ]
     },
     "execution_count": 252,
     "metadata": {},
     "output_type": "execute_result"
    }
   ],
   "source": [
    "#checking for mode value in Married column\n",
    "\n",
    "data['Married'].mode()"
   ]
  },
  {
   "cell_type": "code",
   "execution_count": 253,
   "id": "bcc7f151",
   "metadata": {},
   "outputs": [
    {
     "data": {
      "text/plain": [
       "array(['0', '1', '2', '3+', nan], dtype=object)"
      ]
     },
     "execution_count": 253,
     "metadata": {},
     "output_type": "execute_result"
    }
   ],
   "source": [
    "#checking for unique values in Dependents column\n",
    "\n",
    "data['Dependents'].unique()"
   ]
  },
  {
   "cell_type": "code",
   "execution_count": 254,
   "id": "05e99fe7",
   "metadata": {},
   "outputs": [
    {
     "data": {
      "text/plain": [
       "0    0\n",
       "Name: Dependents, dtype: object"
      ]
     },
     "execution_count": 254,
     "metadata": {},
     "output_type": "execute_result"
    }
   ],
   "source": [
    "#checking for mode value in Dependents column\n",
    "\n",
    "data['Dependents'].mode()"
   ]
  },
  {
   "cell_type": "code",
   "execution_count": 255,
   "id": "5d8e274c",
   "metadata": {},
   "outputs": [
    {
     "data": {
      "text/plain": [
       "array(['No', 'Yes', nan], dtype=object)"
      ]
     },
     "execution_count": 255,
     "metadata": {},
     "output_type": "execute_result"
    }
   ],
   "source": [
    "#checking for unique values in Self_Employed column\n",
    "\n",
    "data['Self_Employed'].unique()"
   ]
  },
  {
   "cell_type": "code",
   "execution_count": 256,
   "id": "460f5639",
   "metadata": {},
   "outputs": [
    {
     "data": {
      "text/plain": [
       "0    No\n",
       "Name: Self_Employed, dtype: object"
      ]
     },
     "execution_count": 256,
     "metadata": {},
     "output_type": "execute_result"
    }
   ],
   "source": [
    "#checking for mode value in Self_Employed column\n",
    "\n",
    "data['Self_Employed'].mode()"
   ]
  },
  {
   "cell_type": "code",
   "execution_count": 257,
   "id": "595981e8",
   "metadata": {},
   "outputs": [
    {
     "data": {
      "text/plain": [
       "array([ nan, 128.,  66., 120., 141., 267.,  95., 158., 168., 349.,  70.,\n",
       "       109., 200., 114.,  17., 125., 100.,  76., 133., 115., 104., 315.,\n",
       "       116., 112., 151., 191., 122., 110.,  35., 201.,  74., 106., 320.,\n",
       "       144., 184.,  80.,  47.,  75., 134.,  96.,  88.,  44., 286.,  97.,\n",
       "       135., 180.,  99., 165., 258., 126., 312., 136., 172.,  81., 187.,\n",
       "       113., 176., 130., 111., 167., 265.,  50., 210., 175., 131., 188.,\n",
       "        25., 137., 160., 225., 216.,  94., 139., 152., 118., 185., 154.,\n",
       "        85., 259., 194.,  93., 370., 182., 650., 102., 290.,  84., 242.,\n",
       "       129.,  30., 244., 600., 255.,  98., 275., 121.,  63., 700.,  87.,\n",
       "       101., 495.,  67.,  73., 260., 108.,  58.,  48., 164., 170.,  83.,\n",
       "        90., 166., 124.,  55.,  59., 127., 214., 240.,  72.,  60., 138.,\n",
       "        42., 280., 140., 155., 123., 279., 192., 304., 330., 150., 207.,\n",
       "       436.,  78.,  54.,  89., 143., 105., 132., 480.,  56., 159., 300.,\n",
       "       376., 117.,  71., 490., 173.,  46., 228., 308., 236., 570., 380.,\n",
       "       296., 156., 103.,  45.,  65.,  53., 360.,  62., 218., 178., 239.,\n",
       "       405., 148., 190., 149., 153., 162., 230.,  86., 234., 246., 500.,\n",
       "       186., 119., 107., 209., 208., 243.,  40., 250., 311., 400., 161.,\n",
       "       196., 324., 157., 145., 181.,  26., 211.,   9., 205.,  36.,  61.,\n",
       "       146., 292., 142., 350., 496., 253.])"
      ]
     },
     "execution_count": 257,
     "metadata": {},
     "output_type": "execute_result"
    }
   ],
   "source": [
    "#checking for unique values in LoanAmount column\n",
    "\n",
    "data['LoanAmount'].unique()"
   ]
  },
  {
   "cell_type": "code",
   "execution_count": 258,
   "id": "48d58f65",
   "metadata": {},
   "outputs": [
    {
     "data": {
      "text/plain": [
       "0    120.0\n",
       "Name: LoanAmount, dtype: float64"
      ]
     },
     "execution_count": 258,
     "metadata": {},
     "output_type": "execute_result"
    }
   ],
   "source": [
    "#checking for mode value in LoanAmount column\n",
    "\n",
    "data['LoanAmount'].mode()"
   ]
  },
  {
   "cell_type": "code",
   "execution_count": 259,
   "id": "86929bf9",
   "metadata": {},
   "outputs": [
    {
     "data": {
      "text/plain": [
       "array([360., 120., 240.,  nan, 180.,  60., 300., 480.,  36.,  84.,  12.])"
      ]
     },
     "execution_count": 259,
     "metadata": {},
     "output_type": "execute_result"
    }
   ],
   "source": [
    "#checking for unique values in Loan_Amount_Term column\n",
    "\n",
    "data['Loan_Amount_Term'].unique()"
   ]
  },
  {
   "cell_type": "code",
   "execution_count": 260,
   "id": "3507a4a3",
   "metadata": {},
   "outputs": [
    {
     "data": {
      "text/plain": [
       "0    360.0\n",
       "Name: Loan_Amount_Term, dtype: float64"
      ]
     },
     "execution_count": 260,
     "metadata": {},
     "output_type": "execute_result"
    }
   ],
   "source": [
    "#checking for mode value in Loan_Amount_Term column\n",
    "\n",
    "data['Loan_Amount_Term'].mode()"
   ]
  },
  {
   "cell_type": "code",
   "execution_count": 261,
   "id": "d7c33b03",
   "metadata": {},
   "outputs": [
    {
     "data": {
      "text/plain": [
       "array([ 1.,  0., nan])"
      ]
     },
     "execution_count": 261,
     "metadata": {},
     "output_type": "execute_result"
    }
   ],
   "source": [
    "#checking for unique values in Credit_History column\n",
    "\n",
    "data['Credit_History'].unique()"
   ]
  },
  {
   "cell_type": "code",
   "execution_count": 262,
   "id": "d98a19c1",
   "metadata": {},
   "outputs": [
    {
     "data": {
      "text/plain": [
       "0    1.0\n",
       "Name: Credit_History, dtype: float64"
      ]
     },
     "execution_count": 262,
     "metadata": {},
     "output_type": "execute_result"
    }
   ],
   "source": [
    "#checking for mode value in Credit_History column\n",
    "\n",
    "data['Credit_History'].mode()"
   ]
  },
  {
   "cell_type": "markdown",
   "id": "96686788",
   "metadata": {},
   "source": [
    "**Since the data in columns are not float values hence not using mean, as using mean to fill NaN values ends up getting float values.**\n",
    "\n",
    "- **Filling NaN values with either mode and/or median.**\n"
   ]
  },
  {
   "cell_type": "code",
   "execution_count": 263,
   "id": "4327afd7",
   "metadata": {},
   "outputs": [],
   "source": [
    "#Using median for this columns\n",
    "\n",
    "\n",
    "data['LoanAmount'].fillna(data['LoanAmount'].median(),inplace=True)\n",
    "data['Loan_Amount_Term'].fillna(data['Loan_Amount_Term'].median(),inplace=True)\n",
    "data['Credit_History'].fillna(data['Credit_History'].median(),inplace=True)\n"
   ]
  },
  {
   "cell_type": "code",
   "execution_count": 264,
   "id": "25daaf04",
   "metadata": {},
   "outputs": [],
   "source": [
    "#using mode for this columns i.e. using most common value in that column\n",
    "\n",
    "\n",
    "data['Gender'].fillna(data['Gender'].mode()[0],inplace=True)\n",
    "data['Married'].fillna(data['Married'].mode()[0],inplace=True)\n",
    "data['Dependents'].fillna(data['Dependents'].mode()[0],inplace=True)\n",
    "data['Self_Employed'].fillna(data['Self_Employed'].mode()[0],inplace=True)"
   ]
  },
  {
   "cell_type": "code",
   "execution_count": 265,
   "id": "7883ccb4",
   "metadata": {
    "scrolled": true
   },
   "outputs": [
    {
     "data": {
      "text/plain": [
       "Loan_ID              0\n",
       "Gender               0\n",
       "Married              0\n",
       "Dependents           0\n",
       "Education            0\n",
       "Self_Employed        0\n",
       "ApplicantIncome      0\n",
       "CoapplicantIncome    0\n",
       "LoanAmount           0\n",
       "Loan_Amount_Term     0\n",
       "Credit_History       0\n",
       "Property_Area        0\n",
       "Loan_Status          0\n",
       "dtype: int64"
      ]
     },
     "execution_count": 265,
     "metadata": {},
     "output_type": "execute_result"
    }
   ],
   "source": [
    "#checking for null values after inputing mode values \n",
    "\n",
    "data.isnull().sum()"
   ]
  },
  {
   "cell_type": "code",
   "execution_count": 266,
   "id": "e00a18bd",
   "metadata": {},
   "outputs": [
    {
     "data": {
      "text/html": [
       "<div>\n",
       "<style scoped>\n",
       "    .dataframe tbody tr th:only-of-type {\n",
       "        vertical-align: middle;\n",
       "    }\n",
       "\n",
       "    .dataframe tbody tr th {\n",
       "        vertical-align: top;\n",
       "    }\n",
       "\n",
       "    .dataframe thead th {\n",
       "        text-align: right;\n",
       "    }\n",
       "</style>\n",
       "<table border=\"1\" class=\"dataframe\">\n",
       "  <thead>\n",
       "    <tr style=\"text-align: right;\">\n",
       "      <th></th>\n",
       "      <th>Loan_ID</th>\n",
       "      <th>Gender</th>\n",
       "      <th>Married</th>\n",
       "      <th>Dependents</th>\n",
       "      <th>Education</th>\n",
       "      <th>Self_Employed</th>\n",
       "      <th>ApplicantIncome</th>\n",
       "      <th>CoapplicantIncome</th>\n",
       "      <th>LoanAmount</th>\n",
       "      <th>Loan_Amount_Term</th>\n",
       "      <th>Credit_History</th>\n",
       "      <th>Property_Area</th>\n",
       "      <th>Loan_Status</th>\n",
       "    </tr>\n",
       "  </thead>\n",
       "  <tbody>\n",
       "    <tr>\n",
       "      <th>0</th>\n",
       "      <td>LP001002</td>\n",
       "      <td>Male</td>\n",
       "      <td>No</td>\n",
       "      <td>0</td>\n",
       "      <td>Graduate</td>\n",
       "      <td>No</td>\n",
       "      <td>5849</td>\n",
       "      <td>0.0</td>\n",
       "      <td>128.0</td>\n",
       "      <td>360.0</td>\n",
       "      <td>1.0</td>\n",
       "      <td>Urban</td>\n",
       "      <td>Y</td>\n",
       "    </tr>\n",
       "    <tr>\n",
       "      <th>1</th>\n",
       "      <td>LP001003</td>\n",
       "      <td>Male</td>\n",
       "      <td>Yes</td>\n",
       "      <td>1</td>\n",
       "      <td>Graduate</td>\n",
       "      <td>No</td>\n",
       "      <td>4583</td>\n",
       "      <td>1508.0</td>\n",
       "      <td>128.0</td>\n",
       "      <td>360.0</td>\n",
       "      <td>1.0</td>\n",
       "      <td>Rural</td>\n",
       "      <td>N</td>\n",
       "    </tr>\n",
       "    <tr>\n",
       "      <th>2</th>\n",
       "      <td>LP001005</td>\n",
       "      <td>Male</td>\n",
       "      <td>Yes</td>\n",
       "      <td>0</td>\n",
       "      <td>Graduate</td>\n",
       "      <td>Yes</td>\n",
       "      <td>3000</td>\n",
       "      <td>0.0</td>\n",
       "      <td>66.0</td>\n",
       "      <td>360.0</td>\n",
       "      <td>1.0</td>\n",
       "      <td>Urban</td>\n",
       "      <td>Y</td>\n",
       "    </tr>\n",
       "    <tr>\n",
       "      <th>3</th>\n",
       "      <td>LP001006</td>\n",
       "      <td>Male</td>\n",
       "      <td>Yes</td>\n",
       "      <td>0</td>\n",
       "      <td>Not Graduate</td>\n",
       "      <td>No</td>\n",
       "      <td>2583</td>\n",
       "      <td>2358.0</td>\n",
       "      <td>120.0</td>\n",
       "      <td>360.0</td>\n",
       "      <td>1.0</td>\n",
       "      <td>Urban</td>\n",
       "      <td>Y</td>\n",
       "    </tr>\n",
       "    <tr>\n",
       "      <th>4</th>\n",
       "      <td>LP001008</td>\n",
       "      <td>Male</td>\n",
       "      <td>No</td>\n",
       "      <td>0</td>\n",
       "      <td>Graduate</td>\n",
       "      <td>No</td>\n",
       "      <td>6000</td>\n",
       "      <td>0.0</td>\n",
       "      <td>141.0</td>\n",
       "      <td>360.0</td>\n",
       "      <td>1.0</td>\n",
       "      <td>Urban</td>\n",
       "      <td>Y</td>\n",
       "    </tr>\n",
       "  </tbody>\n",
       "</table>\n",
       "</div>"
      ],
      "text/plain": [
       "    Loan_ID Gender Married Dependents     Education Self_Employed  \\\n",
       "0  LP001002   Male      No          0      Graduate            No   \n",
       "1  LP001003   Male     Yes          1      Graduate            No   \n",
       "2  LP001005   Male     Yes          0      Graduate           Yes   \n",
       "3  LP001006   Male     Yes          0  Not Graduate            No   \n",
       "4  LP001008   Male      No          0      Graduate            No   \n",
       "\n",
       "   ApplicantIncome  CoapplicantIncome  LoanAmount  Loan_Amount_Term  \\\n",
       "0             5849                0.0       128.0             360.0   \n",
       "1             4583             1508.0       128.0             360.0   \n",
       "2             3000                0.0        66.0             360.0   \n",
       "3             2583             2358.0       120.0             360.0   \n",
       "4             6000                0.0       141.0             360.0   \n",
       "\n",
       "   Credit_History Property_Area Loan_Status  \n",
       "0             1.0         Urban           Y  \n",
       "1             1.0         Rural           N  \n",
       "2             1.0         Urban           Y  \n",
       "3             1.0         Urban           Y  \n",
       "4             1.0         Urban           Y  "
      ]
     },
     "execution_count": 266,
     "metadata": {},
     "output_type": "execute_result"
    }
   ],
   "source": [
    "#printing dataframe afer inputing NaN values\n",
    "\n",
    "data.head()"
   ]
  },
  {
   "cell_type": "markdown",
   "id": "83cb5eb3",
   "metadata": {},
   "source": [
    "# EDA"
   ]
  },
  {
   "cell_type": "code",
   "execution_count": 267,
   "id": "2ec93125",
   "metadata": {},
   "outputs": [
    {
     "data": {
      "text/plain": [
       "array(['LP001002', 'LP001003', 'LP001005', 'LP001006', 'LP001008',\n",
       "       'LP001011', 'LP001013', 'LP001014', 'LP001018', 'LP001020',\n",
       "       'LP001024', 'LP001027', 'LP001028', 'LP001029', 'LP001030',\n",
       "       'LP001032', 'LP001034', 'LP001036', 'LP001038', 'LP001041',\n",
       "       'LP001043', 'LP001046', 'LP001047', 'LP001050', 'LP001052',\n",
       "       'LP001066', 'LP001068', 'LP001073', 'LP001086', 'LP001087',\n",
       "       'LP001091', 'LP001095', 'LP001097', 'LP001098', 'LP001100',\n",
       "       'LP001106', 'LP001109', 'LP001112', 'LP001114', 'LP001116',\n",
       "       'LP001119', 'LP001120', 'LP001123', 'LP001131', 'LP001136',\n",
       "       'LP001137', 'LP001138', 'LP001144', 'LP001146', 'LP001151',\n",
       "       'LP001155', 'LP001157', 'LP001164', 'LP001179', 'LP001186',\n",
       "       'LP001194', 'LP001195', 'LP001197', 'LP001198', 'LP001199',\n",
       "       'LP001205', 'LP001206', 'LP001207', 'LP001213', 'LP001222',\n",
       "       'LP001225', 'LP001228', 'LP001233', 'LP001238', 'LP001241',\n",
       "       'LP001243', 'LP001245', 'LP001248', 'LP001250', 'LP001253',\n",
       "       'LP001255', 'LP001256', 'LP001259', 'LP001263', 'LP001264',\n",
       "       'LP001265', 'LP001266', 'LP001267', 'LP001273', 'LP001275',\n",
       "       'LP001279', 'LP001280', 'LP001282', 'LP001289', 'LP001310',\n",
       "       'LP001316', 'LP001318', 'LP001319', 'LP001322', 'LP001325',\n",
       "       'LP001326', 'LP001327', 'LP001333', 'LP001334', 'LP001343',\n",
       "       'LP001345', 'LP001349', 'LP001350', 'LP001356', 'LP001357',\n",
       "       'LP001367', 'LP001369', 'LP001370', 'LP001379', 'LP001384',\n",
       "       'LP001385', 'LP001387', 'LP001391', 'LP001392', 'LP001398',\n",
       "       'LP001401', 'LP001404', 'LP001405', 'LP001421', 'LP001422',\n",
       "       'LP001426', 'LP001430', 'LP001431', 'LP001432', 'LP001439',\n",
       "       'LP001443', 'LP001448', 'LP001449', 'LP001451', 'LP001465',\n",
       "       'LP001469', 'LP001473', 'LP001478', 'LP001482', 'LP001487',\n",
       "       'LP001488', 'LP001489', 'LP001491', 'LP001492', 'LP001493',\n",
       "       'LP001497', 'LP001498', 'LP001504', 'LP001507', 'LP001508',\n",
       "       'LP001514', 'LP001516', 'LP001518', 'LP001519', 'LP001520',\n",
       "       'LP001528', 'LP001529', 'LP001531', 'LP001532', 'LP001535',\n",
       "       'LP001536', 'LP001541', 'LP001543', 'LP001546', 'LP001552',\n",
       "       'LP001560', 'LP001562', 'LP001565', 'LP001570', 'LP001572',\n",
       "       'LP001574', 'LP001577', 'LP001578', 'LP001579', 'LP001580',\n",
       "       'LP001581', 'LP001585', 'LP001586', 'LP001594', 'LP001603',\n",
       "       'LP001606', 'LP001608', 'LP001610', 'LP001616', 'LP001630',\n",
       "       'LP001633', 'LP001634', 'LP001636', 'LP001637', 'LP001639',\n",
       "       'LP001640', 'LP001641', 'LP001643', 'LP001644', 'LP001647',\n",
       "       'LP001653', 'LP001656', 'LP001657', 'LP001658', 'LP001664',\n",
       "       'LP001665', 'LP001666', 'LP001669', 'LP001671', 'LP001673',\n",
       "       'LP001674', 'LP001677', 'LP001682', 'LP001688', 'LP001691',\n",
       "       'LP001692', 'LP001693', 'LP001698', 'LP001699', 'LP001702',\n",
       "       'LP001708', 'LP001711', 'LP001713', 'LP001715', 'LP001716',\n",
       "       'LP001720', 'LP001722', 'LP001726', 'LP001732', 'LP001734',\n",
       "       'LP001736', 'LP001743', 'LP001744', 'LP001749', 'LP001750',\n",
       "       'LP001751', 'LP001754', 'LP001758', 'LP001760', 'LP001761',\n",
       "       'LP001765', 'LP001768', 'LP001770', 'LP001776', 'LP001778',\n",
       "       'LP001784', 'LP001786', 'LP001788', 'LP001790', 'LP001792',\n",
       "       'LP001798', 'LP001800', 'LP001806', 'LP001807', 'LP001811',\n",
       "       'LP001813', 'LP001814', 'LP001819', 'LP001824', 'LP001825',\n",
       "       'LP001835', 'LP001836', 'LP001841', 'LP001843', 'LP001844',\n",
       "       'LP001846', 'LP001849', 'LP001854', 'LP001859', 'LP001864',\n",
       "       'LP001865', 'LP001868', 'LP001870', 'LP001871', 'LP001872',\n",
       "       'LP001875', 'LP001877', 'LP001882', 'LP001883', 'LP001884',\n",
       "       'LP001888', 'LP001891', 'LP001892', 'LP001894', 'LP001896',\n",
       "       'LP001900', 'LP001903', 'LP001904', 'LP001907', 'LP001908',\n",
       "       'LP001910', 'LP001914', 'LP001915', 'LP001917', 'LP001922',\n",
       "       'LP001924', 'LP001925', 'LP001926', 'LP001931', 'LP001935',\n",
       "       'LP001936', 'LP001938', 'LP001940', 'LP001945', 'LP001947',\n",
       "       'LP001949', 'LP001953', 'LP001954', 'LP001955', 'LP001963',\n",
       "       'LP001964', 'LP001972', 'LP001974', 'LP001977', 'LP001978',\n",
       "       'LP001990', 'LP001993', 'LP001994', 'LP001996', 'LP001998',\n",
       "       'LP002002', 'LP002004', 'LP002006', 'LP002008', 'LP002024',\n",
       "       'LP002031', 'LP002035', 'LP002036', 'LP002043', 'LP002050',\n",
       "       'LP002051', 'LP002053', 'LP002054', 'LP002055', 'LP002065',\n",
       "       'LP002067', 'LP002068', 'LP002082', 'LP002086', 'LP002087',\n",
       "       'LP002097', 'LP002098', 'LP002100', 'LP002101', 'LP002103',\n",
       "       'LP002106', 'LP002110', 'LP002112', 'LP002113', 'LP002114',\n",
       "       'LP002115', 'LP002116', 'LP002119', 'LP002126', 'LP002128',\n",
       "       'LP002129', 'LP002130', 'LP002131', 'LP002137', 'LP002138',\n",
       "       'LP002139', 'LP002140', 'LP002141', 'LP002142', 'LP002143',\n",
       "       'LP002144', 'LP002149', 'LP002151', 'LP002158', 'LP002160',\n",
       "       'LP002161', 'LP002170', 'LP002175', 'LP002178', 'LP002180',\n",
       "       'LP002181', 'LP002187', 'LP002188', 'LP002190', 'LP002191',\n",
       "       'LP002194', 'LP002197', 'LP002201', 'LP002205', 'LP002209',\n",
       "       'LP002211', 'LP002219', 'LP002223', 'LP002224', 'LP002225',\n",
       "       'LP002226', 'LP002229', 'LP002231', 'LP002234', 'LP002236',\n",
       "       'LP002237', 'LP002239', 'LP002243', 'LP002244', 'LP002250',\n",
       "       'LP002255', 'LP002262', 'LP002263', 'LP002265', 'LP002266',\n",
       "       'LP002272', 'LP002277', 'LP002281', 'LP002284', 'LP002287',\n",
       "       'LP002288', 'LP002296', 'LP002297', 'LP002300', 'LP002301',\n",
       "       'LP002305', 'LP002308', 'LP002314', 'LP002315', 'LP002317',\n",
       "       'LP002318', 'LP002319', 'LP002328', 'LP002332', 'LP002335',\n",
       "       'LP002337', 'LP002341', 'LP002342', 'LP002345', 'LP002347',\n",
       "       'LP002348', 'LP002357', 'LP002361', 'LP002362', 'LP002364',\n",
       "       'LP002366', 'LP002367', 'LP002368', 'LP002369', 'LP002370',\n",
       "       'LP002377', 'LP002379', 'LP002386', 'LP002387', 'LP002390',\n",
       "       'LP002393', 'LP002398', 'LP002401', 'LP002403', 'LP002407',\n",
       "       'LP002408', 'LP002409', 'LP002418', 'LP002422', 'LP002424',\n",
       "       'LP002429', 'LP002434', 'LP002435', 'LP002443', 'LP002444',\n",
       "       'LP002446', 'LP002447', 'LP002448', 'LP002449', 'LP002453',\n",
       "       'LP002455', 'LP002459', 'LP002467', 'LP002472', 'LP002473',\n",
       "       'LP002478', 'LP002484', 'LP002487', 'LP002489', 'LP002493',\n",
       "       'LP002494', 'LP002500', 'LP002501', 'LP002502', 'LP002505',\n",
       "       'LP002515', 'LP002517', 'LP002519', 'LP002522', 'LP002524',\n",
       "       'LP002527', 'LP002529', 'LP002530', 'LP002531', 'LP002533',\n",
       "       'LP002534', 'LP002536', 'LP002537', 'LP002541', 'LP002543',\n",
       "       'LP002544', 'LP002545', 'LP002547', 'LP002555', 'LP002556',\n",
       "       'LP002560', 'LP002562', 'LP002571', 'LP002582', 'LP002585',\n",
       "       'LP002586', 'LP002587', 'LP002588', 'LP002600', 'LP002602',\n",
       "       'LP002603', 'LP002606', 'LP002615', 'LP002618', 'LP002619',\n",
       "       'LP002622', 'LP002624', 'LP002625', 'LP002626', 'LP002634',\n",
       "       'LP002637', 'LP002640', 'LP002643', 'LP002648', 'LP002652',\n",
       "       'LP002659', 'LP002670', 'LP002682', 'LP002683', 'LP002684',\n",
       "       'LP002689', 'LP002690', 'LP002692', 'LP002693', 'LP002697',\n",
       "       'LP002699', 'LP002705', 'LP002706', 'LP002714', 'LP002716',\n",
       "       'LP002717', 'LP002720', 'LP002723', 'LP002729', 'LP002731',\n",
       "       'LP002732', 'LP002734', 'LP002738', 'LP002739', 'LP002740',\n",
       "       'LP002741', 'LP002743', 'LP002753', 'LP002755', 'LP002757',\n",
       "       'LP002767', 'LP002768', 'LP002772', 'LP002776', 'LP002777',\n",
       "       'LP002778', 'LP002784', 'LP002785', 'LP002788', 'LP002789',\n",
       "       'LP002792', 'LP002794', 'LP002795', 'LP002798', 'LP002804',\n",
       "       'LP002807', 'LP002813', 'LP002820', 'LP002821', 'LP002832',\n",
       "       'LP002833', 'LP002836', 'LP002837', 'LP002840', 'LP002841',\n",
       "       'LP002842', 'LP002847', 'LP002855', 'LP002862', 'LP002863',\n",
       "       'LP002868', 'LP002872', 'LP002874', 'LP002877', 'LP002888',\n",
       "       'LP002892', 'LP002893', 'LP002894', 'LP002898', 'LP002911',\n",
       "       'LP002912', 'LP002916', 'LP002917', 'LP002925', 'LP002926',\n",
       "       'LP002928', 'LP002931', 'LP002933', 'LP002936', 'LP002938',\n",
       "       'LP002940', 'LP002941', 'LP002943', 'LP002945', 'LP002948',\n",
       "       'LP002949', 'LP002950', 'LP002953', 'LP002958', 'LP002959',\n",
       "       'LP002960', 'LP002961', 'LP002964', 'LP002974', 'LP002978',\n",
       "       'LP002979', 'LP002983', 'LP002984', 'LP002990'], dtype=object)"
      ]
     },
     "execution_count": 267,
     "metadata": {},
     "output_type": "execute_result"
    }
   ],
   "source": [
    "data['Loan_ID'].unique()"
   ]
  },
  {
   "cell_type": "code",
   "execution_count": 268,
   "id": "58f38dc4",
   "metadata": {},
   "outputs": [
    {
     "data": {
      "text/plain": [
       "614"
      ]
     },
     "execution_count": 268,
     "metadata": {},
     "output_type": "execute_result"
    }
   ],
   "source": [
    "len(data['Loan_ID'].unique())"
   ]
  },
  {
   "cell_type": "markdown",
   "id": "51b17555",
   "metadata": {},
   "source": [
    "- It seems that Loan_ID is the serial number provided to each loan application and this number matches with the total number of rows(applications) provided. Hence this column will be dropped as it has no use in developing model."
   ]
  },
  {
   "cell_type": "code",
   "execution_count": 269,
   "id": "ad5f5a78",
   "metadata": {},
   "outputs": [],
   "source": [
    "#dropping Loan_ID column\n",
    "\n",
    "data=data.drop(['Loan_ID'],axis=1)"
   ]
  },
  {
   "cell_type": "code",
   "execution_count": 270,
   "id": "ea083525",
   "metadata": {},
   "outputs": [
    {
     "data": {
      "text/plain": [
       "(614, 12)"
      ]
     },
     "execution_count": 270,
     "metadata": {},
     "output_type": "execute_result"
    }
   ],
   "source": [
    "#checking dataset shape after dropping column\n",
    "\n",
    "data.shape"
   ]
  },
  {
   "cell_type": "markdown",
   "id": "d35b41aa",
   "metadata": {},
   "source": [
    "Now the dataset has 12 column as one column was dropped"
   ]
  },
  {
   "cell_type": "code",
   "execution_count": 271,
   "id": "753e00d1",
   "metadata": {},
   "outputs": [
    {
     "data": {
      "text/plain": [
       "<AxesSubplot:xlabel='Gender', ylabel='count'>"
      ]
     },
     "execution_count": 271,
     "metadata": {},
     "output_type": "execute_result"
    },
    {
     "data": {
      "image/png": "[encoded data removed]",
      "text/plain": [
       "<Figure size 432x288 with 1 Axes>"
      ]
     },
     "metadata": {
      "needs_background": "light"
     },
     "output_type": "display_data"
    }
   ],
   "source": [
    "sns.countplot(data['Gender'])"
   ]
  },
  {
   "cell_type": "markdown",
   "id": "3d4f1ff0",
   "metadata": {},
   "source": [
    "It can be seen that there are more number of males who have applied for loan."
   ]
  },
  {
   "cell_type": "code",
   "execution_count": 30,
   "id": "b12b5b0f",
   "metadata": {},
   "outputs": [
    {
     "data": {
      "text/plain": [
       "<AxesSubplot:xlabel='Married', ylabel='count'>"
      ]
     },
     "execution_count": 30,
     "metadata": {},
     "output_type": "execute_result"
    },
    {
     "data": {
      "image/png": "[encoded data removed]",
      "text/plain": [
       "<Figure size 432x288 with 1 Axes>"
      ]
     },
     "metadata": {
      "needs_background": "light"
     },
     "output_type": "display_data"
    }
   ],
   "source": [
    "sns.countplot(data['Married'])"
   ]
  },
  {
   "cell_type": "markdown",
   "id": "000e88f4",
   "metadata": {},
   "source": [
    "- Most person who have applied for loan are married as seen in above plot."
   ]
  },
  {
   "cell_type": "code",
   "execution_count": 31,
   "id": "dbcf9546",
   "metadata": {},
   "outputs": [
    {
     "data": {
      "text/plain": [
       "<AxesSubplot:xlabel='Dependents', ylabel='count'>"
      ]
     },
     "execution_count": 31,
     "metadata": {},
     "output_type": "execute_result"
    },
    {
     "data": {
      "image/png": "[encoded data removed]",
      "text/plain": [
       "<Figure size 432x288 with 1 Axes>"
      ]
     },
     "metadata": {
      "needs_background": "light"
     },
     "output_type": "display_data"
    }
   ],
   "source": [
    "sns.countplot(data['Dependents'])"
   ]
  },
  {
   "cell_type": "markdown",
   "id": "f2842b1f",
   "metadata": {},
   "source": [
    "- The most number of loan applicants does not have any dependents on them while almost 50 people have 3 and more dependents on them."
   ]
  },
  {
   "cell_type": "code",
   "execution_count": 32,
   "id": "0946b403",
   "metadata": {},
   "outputs": [
    {
     "data": {
      "text/plain": [
       "<AxesSubplot:xlabel='Education', ylabel='count'>"
      ]
     },
     "execution_count": 32,
     "metadata": {},
     "output_type": "execute_result"
    },
    {
     "data": {
      "image/png": "[encoded data removed]",
      "text/plain": [
       "<Figure size 432x288 with 1 Axes>"
      ]
     },
     "metadata": {
      "needs_background": "light"
     },
     "output_type": "display_data"
    }
   ],
   "source": [
    "sns.countplot(data['Education'])"
   ]
  },
  {
   "cell_type": "markdown",
   "id": "b74306d1",
   "metadata": {},
   "source": [
    "- Most of the loan applicants are graduates as seen in above plot."
   ]
  },
  {
   "cell_type": "code",
   "execution_count": 33,
   "id": "2c840007",
   "metadata": {},
   "outputs": [
    {
     "data": {
      "text/plain": [
       "<AxesSubplot:xlabel='Self_Employed', ylabel='count'>"
      ]
     },
     "execution_count": 33,
     "metadata": {},
     "output_type": "execute_result"
    },
    {
     "data": {
      "image/png": "[encoded data removed]",
      "text/plain": [
       "<Figure size 432x288 with 1 Axes>"
      ]
     },
     "metadata": {
      "needs_background": "light"
     },
     "output_type": "display_data"
    }
   ],
   "source": [
    "sns.countplot(data['Self_Employed'])"
   ]
  },
  {
   "cell_type": "markdown",
   "id": "def0fe0c",
   "metadata": {},
   "source": [
    "- Very less number of applicants are self employed while most applicants are employees of some companies."
   ]
  },
  {
   "cell_type": "code",
   "execution_count": 35,
   "id": "1e00c82a",
   "metadata": {},
   "outputs": [
    {
     "data": {
      "image/png": "[encoded data removed]",
      "text/plain": [
       "<Figure size 2160x432 with 1 Axes>"
      ]
     },
     "metadata": {
      "needs_background": "light"
     },
     "output_type": "display_data"
    }
   ],
   "source": [
    "plt.figure(figsize=(30,6))\n",
    "sns.countplot(data['ApplicantIncome'])\n",
    "plt.xticks(rotation='vertical')\n",
    "plt.show()"
   ]
  },
  {
   "cell_type": "markdown",
   "id": "35618b52",
   "metadata": {},
   "source": [
    "- The above plot shows the count of loan applicants salaries."
   ]
  },
  {
   "cell_type": "code",
   "execution_count": 65,
   "id": "f61c0317",
   "metadata": {},
   "outputs": [
    {
     "data": {
      "text/plain": [
       "<AxesSubplot:xlabel='CoapplicantIncome', ylabel='Count'>"
      ]
     },
     "execution_count": 65,
     "metadata": {},
     "output_type": "execute_result"
    },
    {
     "data": {
      "image/png": "[encoded data removed]",
      "text/plain": [
       "<Figure size 432x288 with 1 Axes>"
      ]
     },
     "metadata": {
      "needs_background": "light"
     },
     "output_type": "display_data"
    }
   ],
   "source": [
    "sns.histplot(data['CoapplicantIncome'])"
   ]
  },
  {
   "cell_type": "markdown",
   "id": "50d8abbc",
   "metadata": {},
   "source": [
    "It can be seen from above plot that most co-applicants income is 0."
   ]
  },
  {
   "cell_type": "code",
   "execution_count": 38,
   "id": "5cd2d332",
   "metadata": {},
   "outputs": [
    {
     "data": {
      "image/png": "[encoded data removed]",
      "text/plain": [
       "<Figure size 2160x360 with 1 Axes>"
      ]
     },
     "metadata": {
      "needs_background": "light"
     },
     "output_type": "display_data"
    }
   ],
   "source": [
    "plt.figure(figsize=(30,5))\n",
    "sns.countplot(data['LoanAmount'])\n",
    "plt.xticks(rotation='vertical')\n",
    "plt.show()\n"
   ]
  },
  {
   "cell_type": "markdown",
   "id": "17d46c2c",
   "metadata": {},
   "source": [
    "the countplot shows the Loan amount of Loan applicants."
   ]
  },
  {
   "cell_type": "code",
   "execution_count": 76,
   "id": "122588be",
   "metadata": {
    "scrolled": true
   },
   "outputs": [
    {
     "data": {
      "text/plain": [
       "<AxesSubplot:xlabel='Loan_Amount_Term', ylabel='count'>"
      ]
     },
     "execution_count": 76,
     "metadata": {},
     "output_type": "execute_result"
    },
    {
     "data": {
      "image/png": "[encoded data removed]",
      "text/plain": [
       "<Figure size 432x288 with 1 Axes>"
      ]
     },
     "metadata": {
      "needs_background": "light"
     },
     "output_type": "display_data"
    }
   ],
   "source": [
    "sns.countplot(data['Loan_Amount_Term'])"
   ]
  },
  {
   "cell_type": "markdown",
   "id": "c555bc8d",
   "metadata": {},
   "source": [
    "-Most of the applicants has loan repayment term of 360 months or years."
   ]
  },
  {
   "cell_type": "code",
   "execution_count": 77,
   "id": "e24b4350",
   "metadata": {},
   "outputs": [
    {
     "data": {
      "text/plain": [
       "<AxesSubplot:xlabel='Credit_History', ylabel='count'>"
      ]
     },
     "execution_count": 77,
     "metadata": {},
     "output_type": "execute_result"
    },
    {
     "data": {
      "image/png": "[encoded data removed]",
      "text/plain": [
       "<Figure size 432x288 with 1 Axes>"
      ]
     },
     "metadata": {
      "needs_background": "light"
     },
     "output_type": "display_data"
    }
   ],
   "source": [
    "sns.countplot(data['Credit_History'])"
   ]
  },
  {
   "cell_type": "markdown",
   "id": "986e6747",
   "metadata": {},
   "source": [
    "- Most loan applicants have credit history."
   ]
  },
  {
   "cell_type": "code",
   "execution_count": 78,
   "id": "33b6ce75",
   "metadata": {},
   "outputs": [
    {
     "data": {
      "text/plain": [
       "<AxesSubplot:xlabel='Property_Area', ylabel='count'>"
      ]
     },
     "execution_count": 78,
     "metadata": {},
     "output_type": "execute_result"
    },
    {
     "data": {
      "image/png": "[encoded data removed]",
      "text/plain": [
       "<Figure size 432x288 with 1 Axes>"
      ]
     },
     "metadata": {
      "needs_background": "light"
     },
     "output_type": "display_data"
    }
   ],
   "source": [
    "sns.countplot(data['Property_Area'])"
   ]
  },
  {
   "cell_type": "markdown",
   "id": "20347edc",
   "metadata": {},
   "source": [
    " - Most of the applicants has the property area in Semiurban locality while least property area is from Rural locality."
   ]
  },
  {
   "cell_type": "code",
   "execution_count": 80,
   "id": "77123554",
   "metadata": {},
   "outputs": [
    {
     "data": {
      "text/plain": [
       "<AxesSubplot:xlabel='Loan_Status', ylabel='count'>"
      ]
     },
     "execution_count": 80,
     "metadata": {},
     "output_type": "execute_result"
    },
    {
     "data": {
      "image/png": "[encoded data removed]",
      "text/plain": [
       "<Figure size 432x288 with 1 Axes>"
      ]
     },
     "metadata": {
      "needs_background": "light"
     },
     "output_type": "display_data"
    }
   ],
   "source": [
    "sns.countplot(data['Loan_Status'])"
   ]
  },
  {
   "cell_type": "markdown",
   "id": "ea110fa6",
   "metadata": {},
   "source": [
    "- It can be seen that >400 loan applicants has the chances of getting their loan approved."
   ]
  },
  {
   "cell_type": "code",
   "execution_count": 43,
   "id": "4ef302f0",
   "metadata": {},
   "outputs": [
    {
     "data": {
      "text/plain": [
       "<AxesSubplot:xlabel='Gender', ylabel='ApplicantIncome'>"
      ]
     },
     "execution_count": 43,
     "metadata": {},
     "output_type": "execute_result"
    },
    {
     "data": {
      "image/png": "[encoded data removed]",
      "text/plain": [
       "<Figure size 432x288 with 1 Axes>"
      ]
     },
     "metadata": {
      "needs_background": "light"
     },
     "output_type": "display_data"
    }
   ],
   "source": [
    "sns.barplot(x='Gender',y='ApplicantIncome',data=data)"
   ]
  },
  {
   "cell_type": "markdown",
   "id": "1424898d",
   "metadata": {},
   "source": [
    "- It can be seen that Male applicants income is more then female ones."
   ]
  },
  {
   "cell_type": "code",
   "execution_count": 46,
   "id": "50213939",
   "metadata": {},
   "outputs": [
    {
     "data": {
      "text/plain": [
       "<AxesSubplot:xlabel='Gender', ylabel='LoanAmount'>"
      ]
     },
     "execution_count": 46,
     "metadata": {},
     "output_type": "execute_result"
    },
    {
     "data": {
      "image/png": "[encoded data removed]",
      "text/plain": [
       "<Figure size 432x288 with 1 Axes>"
      ]
     },
     "metadata": {
      "needs_background": "light"
     },
     "output_type": "display_data"
    }
   ],
   "source": [
    "sns.barplot(x='Gender',y='LoanAmount',data=data,hue='Loan_Status')"
   ]
  },
  {
   "cell_type": "markdown",
   "id": "16747a12",
   "metadata": {},
   "source": [
    "- It can be seen that Loans for Males with less loan amount will be accepted while there is not difference with respect to loan sanctioning incase of females."
   ]
  },
  {
   "cell_type": "code",
   "execution_count": 57,
   "id": "a5cc5738",
   "metadata": {},
   "outputs": [
    {
     "data": {
      "text/plain": [
       "<AxesSubplot:xlabel='Gender', ylabel='Loan_Amount_Term'>"
      ]
     },
     "execution_count": 57,
     "metadata": {},
     "output_type": "execute_result"
    },
    {
     "data": {
      "image/png": "[encoded data removed]",
      "text/plain": [
       "<Figure size 432x288 with 1 Axes>"
      ]
     },
     "metadata": {
      "needs_background": "light"
     },
     "output_type": "display_data"
    }
   ],
   "source": [
    "sns.stripplot(x='Gender',y='Loan_Amount_Term',data=data,hue='Loan_Status')"
   ]
  },
  {
   "cell_type": "code",
   "execution_count": 88,
   "id": "e09f9130",
   "metadata": {},
   "outputs": [
    {
     "data": {
      "text/plain": [
       "Loan_Status  Gender  Married\n",
       "N            Male    Yes        105\n",
       "                     No          50\n",
       "             Female  No          29\n",
       "                     Yes          8\n",
       "Y            Male    Yes        264\n",
       "                     No          83\n",
       "             Female  No          51\n",
       "                     Yes         24\n",
       "dtype: int64"
      ]
     },
     "execution_count": 88,
     "metadata": {},
     "output_type": "execute_result"
    }
   ],
   "source": [
    "data.groupby('Loan_Status')[['Gender','Married']].value_counts()"
   ]
  },
  {
   "cell_type": "code",
   "execution_count": 89,
   "id": "aa9f1156",
   "metadata": {},
   "outputs": [
    {
     "data": {
      "text/plain": [
       "<AxesSubplot:xlabel='Loan_Status,Gender,Married'>"
      ]
     },
     "execution_count": 89,
     "metadata": {},
     "output_type": "execute_result"
    },
    {
     "data": {
      "image/png": "[encoded data removed]",
      "text/plain": [
       "<Figure size 432x288 with 1 Axes>"
      ]
     },
     "metadata": {
      "needs_background": "light"
     },
     "output_type": "display_data"
    }
   ],
   "source": [
    "data.groupby('Loan_Status')[['Gender','Married']].value_counts().plot.bar()\n"
   ]
  },
  {
   "cell_type": "markdown",
   "id": "9f592f3a",
   "metadata": {},
   "source": [
    "-Above data and plot shows that most of married males has their loans approved while less number of married females has their loans approved.\n"
   ]
  },
  {
   "cell_type": "code",
   "execution_count": 90,
   "id": "ef712b6f",
   "metadata": {},
   "outputs": [
    {
     "data": {
      "text/plain": [
       "<AxesSubplot:xlabel='Loan_Status,Gender,Dependents'>"
      ]
     },
     "execution_count": 90,
     "metadata": {},
     "output_type": "execute_result"
    },
    {
     "data": {
      "image/png": "[encoded data removed]",
      "text/plain": [
       "<Figure size 432x288 with 1 Axes>"
      ]
     },
     "metadata": {
      "needs_background": "light"
     },
     "output_type": "display_data"
    }
   ],
   "source": [
    "data.groupby('Loan_Status')[['Gender','Dependents']].value_counts().plot.bar()"
   ]
  },
  {
   "cell_type": "markdown",
   "id": "182dca26",
   "metadata": {},
   "source": [
    "- highest number of males have their loans approved who does not have any dependents.\n",
    "- in case of males and females least number of loans are approved who has 3+ dependents."
   ]
  },
  {
   "cell_type": "code",
   "execution_count": 91,
   "id": "ca24939e",
   "metadata": {},
   "outputs": [
    {
     "data": {
      "text/plain": [
       "<AxesSubplot:xlabel='Loan_Status,Gender,Education'>"
      ]
     },
     "execution_count": 91,
     "metadata": {},
     "output_type": "execute_result"
    },
    {
     "data": {
      "image/png": "[encoded data removed]",
      "text/plain": [
       "<Figure size 432x288 with 1 Axes>"
      ]
     },
     "metadata": {
      "needs_background": "light"
     },
     "output_type": "display_data"
    }
   ],
   "source": [
    "data.groupby('Loan_Status')[['Gender','Education']].value_counts().plot.bar()"
   ]
  },
  {
   "cell_type": "markdown",
   "id": "cad0effc",
   "metadata": {},
   "source": [
    "- Most numner of loans are approved for Garduate males and females."
   ]
  },
  {
   "cell_type": "code",
   "execution_count": 96,
   "id": "7a6f6680",
   "metadata": {},
   "outputs": [
    {
     "data": {
      "text/plain": [
       "<AxesSubplot:xlabel='Loan_Status,Self_Employed'>"
      ]
     },
     "execution_count": 96,
     "metadata": {},
     "output_type": "execute_result"
    },
    {
     "data": {
      "image/png": "[encoded data removed]",
      "text/plain": [
       "<Figure size 432x288 with 1 Axes>"
      ]
     },
     "metadata": {
      "needs_background": "light"
     },
     "output_type": "display_data"
    }
   ],
   "source": [
    "data.groupby('Loan_Status')[['Self_Employed']].value_counts().plot.bar()"
   ]
  },
  {
   "cell_type": "markdown",
   "id": "b671ff99",
   "metadata": {},
   "source": [
    "- Most of the loan applicants who are not self-employed have their loans aproved."
   ]
  },
  {
   "cell_type": "code",
   "execution_count": 97,
   "id": "d4c28b4e",
   "metadata": {},
   "outputs": [
    {
     "data": {
      "text/plain": [
       "<AxesSubplot:xlabel='Loan_Status,Gender,Credit_History'>"
      ]
     },
     "execution_count": 97,
     "metadata": {},
     "output_type": "execute_result"
    },
    {
     "data": {
      "image/png": "[encoded data removed]",
      "text/plain": [
       "<Figure size 432x288 with 1 Axes>"
      ]
     },
     "metadata": {
      "needs_background": "light"
     },
     "output_type": "display_data"
    }
   ],
   "source": [
    "data.groupby('Loan_Status')[['Gender','Credit_History']].value_counts().plot.bar()"
   ]
  },
  {
   "cell_type": "markdown",
   "id": "c7d5fb20",
   "metadata": {},
   "source": [
    "- Most Males that have credit history,their loans are approved, while same is for females."
   ]
  },
  {
   "cell_type": "code",
   "execution_count": 98,
   "id": "232ea777",
   "metadata": {},
   "outputs": [
    {
     "data": {
      "text/plain": [
       "<AxesSubplot:xlabel='Loan_Status,Gender,Property_Area'>"
      ]
     },
     "execution_count": 98,
     "metadata": {},
     "output_type": "execute_result"
    },
    {
     "data": {
      "image/png": "[encoded data removed]",
      "text/plain": [
       "<Figure size 432x288 with 1 Axes>"
      ]
     },
     "metadata": {
      "needs_background": "light"
     },
     "output_type": "display_data"
    }
   ],
   "source": [
    "data.groupby('Loan_Status')[['Gender','Property_Area']].value_counts().plot.bar()"
   ]
  },
  {
   "cell_type": "markdown",
   "id": "1870a603",
   "metadata": {},
   "source": [
    "- Most males that have property area in Semiurban locality have their loans approved followed by Urban and Rural localities.\n",
    "- Same trend is seen in females."
   ]
  },
  {
   "cell_type": "code",
   "execution_count": 108,
   "id": "3c435707",
   "metadata": {},
   "outputs": [
    {
     "data": {
      "text/plain": [
       "<AxesSubplot:xlabel='Loan_Status,Married,Dependents'>"
      ]
     },
     "execution_count": 108,
     "metadata": {},
     "output_type": "execute_result"
    },
    {
     "data": {
      "image/png": "[encoded data removed]",
      "text/plain": [
       "<Figure size 432x288 with 1 Axes>"
      ]
     },
     "metadata": {
      "needs_background": "light"
     },
     "output_type": "display_data"
    }
   ],
   "source": [
    "data.groupby('Loan_Status')[['Married','Dependents']].value_counts().plot.bar()"
   ]
  },
  {
   "cell_type": "markdown",
   "id": "ef2554f6",
   "metadata": {},
   "source": [
    "- It is seen from above plot that loan is approved for applicants who are married with 0 dependents."
   ]
  },
  {
   "cell_type": "code",
   "execution_count": 111,
   "id": "247796da",
   "metadata": {},
   "outputs": [
    {
     "data": {
      "text/plain": [
       "<AxesSubplot:xlabel='Credit_History,Married,Self_Employed'>"
      ]
     },
     "execution_count": 111,
     "metadata": {},
     "output_type": "execute_result"
    },
    {
     "data": {
      "image/png": "[encoded data removed]",
      "text/plain": [
       "<Figure size 432x288 with 1 Axes>"
      ]
     },
     "metadata": {
      "needs_background": "light"
     },
     "output_type": "display_data"
    }
   ],
   "source": [
    "data.groupby('Credit_History')[['Married','Self_Employed']].value_counts().plot.bar()"
   ]
  },
  {
   "cell_type": "markdown",
   "id": "a99e21b9",
   "metadata": {},
   "source": [
    "-  Applicants having past credit history are mostly married and non self employed."
   ]
  },
  {
   "cell_type": "code",
   "execution_count": 113,
   "id": "349b395a",
   "metadata": {},
   "outputs": [
    {
     "data": {
      "text/plain": [
       "<AxesSubplot:xlabel='Credit_History,Married,Education'>"
      ]
     },
     "execution_count": 113,
     "metadata": {},
     "output_type": "execute_result"
    },
    {
     "data": {
      "image/png": "[encoded data removed]",
      "text/plain": [
       "<Figure size 432x288 with 1 Axes>"
      ]
     },
     "metadata": {
      "needs_background": "light"
     },
     "output_type": "display_data"
    }
   ],
   "source": [
    "data.groupby('Credit_History')[['Married','Education']].value_counts().plot.bar()"
   ]
  },
  {
   "cell_type": "markdown",
   "id": "fccda4c9",
   "metadata": {},
   "source": [
    "- The applicants that has credit history are mostly married and graduates."
   ]
  },
  {
   "cell_type": "code",
   "execution_count": 121,
   "id": "c7479e24",
   "metadata": {},
   "outputs": [
    {
     "data": {
      "text/plain": [
       "<AxesSubplot:xlabel='Loan_Status,Loan_Amount_Term,Credit_History'>"
      ]
     },
     "execution_count": 121,
     "metadata": {},
     "output_type": "execute_result"
    },
    {
     "data": {
      "image/png": "[encoded data removed]",
      "text/plain": [
       "<Figure size 432x288 with 1 Axes>"
      ]
     },
     "metadata": {
      "needs_background": "light"
     },
     "output_type": "display_data"
    }
   ],
   "source": [
    "\n",
    "data.groupby('Loan_Status')[['Loan_Amount_Term','Credit_History']].value_counts().plot.bar()"
   ]
  },
  {
   "cell_type": "markdown",
   "id": "8e872957",
   "metadata": {},
   "source": [
    "- Most of the applicants who have credit history have chosen loan repayment for 360 months."
   ]
  },
  {
   "cell_type": "code",
   "execution_count": 272,
   "id": "cdac2b1c",
   "metadata": {
    "scrolled": true
   },
   "outputs": [
    {
     "name": "stdout",
     "output_type": "stream",
     "text": [
      "<class 'pandas.core.frame.DataFrame'>\n",
      "RangeIndex: 614 entries, 0 to 613\n",
      "Data columns (total 12 columns):\n",
      " #   Column             Non-Null Count  Dtype  \n",
      "---  ------             --------------  -----  \n",
      " 0   Gender             614 non-null    object \n",
      " 1   Married            614 non-null    object \n",
      " 2   Dependents         614 non-null    object \n",
      " 3   Education          614 non-null    object \n",
      " 4   Self_Employed      614 non-null    object \n",
      " 5   ApplicantIncome    614 non-null    int64  \n",
      " 6   CoapplicantIncome  614 non-null    float64\n",
      " 7   LoanAmount         614 non-null    float64\n",
      " 8   Loan_Amount_Term   614 non-null    float64\n",
      " 9   Credit_History     614 non-null    float64\n",
      " 10  Property_Area      614 non-null    object \n",
      " 11  Loan_Status        614 non-null    object \n",
      "dtypes: float64(4), int64(1), object(7)\n",
      "memory usage: 57.7+ KB\n"
     ]
    }
   ],
   "source": [
    "data.info()"
   ]
  },
  {
   "cell_type": "markdown",
   "id": "42d6c22e",
   "metadata": {},
   "source": [
    "- It can be seen from above that dependents column, though it has numerical values it shows datatype as object as one of the unique value is 3+.\n",
    "\n",
    " **Changing datatype and unique values from datatype to int and from 3+ to 3 respectively.**"
   ]
  },
  {
   "cell_type": "code",
   "execution_count": 273,
   "id": "8f15b358",
   "metadata": {},
   "outputs": [],
   "source": [
    "#replacing 3+ to 3\n",
    "\n",
    "data['Dependents']=data['Dependents'].replace('3+',3)"
   ]
  },
  {
   "cell_type": "code",
   "execution_count": 274,
   "id": "6c4319c1",
   "metadata": {},
   "outputs": [
    {
     "data": {
      "text/plain": [
       "0    360\n",
       "1    102\n",
       "2    101\n",
       "3     51\n",
       "Name: Dependents, dtype: int64"
      ]
     },
     "execution_count": 274,
     "metadata": {},
     "output_type": "execute_result"
    }
   ],
   "source": [
    "data['Dependents'].value_counts()"
   ]
  },
  {
   "cell_type": "code",
   "execution_count": 275,
   "id": "62ba4f1b",
   "metadata": {},
   "outputs": [],
   "source": [
    "#changing datatype to int\n",
    "\n",
    "data['Dependents']=data['Dependents'].astype('int')"
   ]
  },
  {
   "cell_type": "code",
   "execution_count": 276,
   "id": "e1a4edd1",
   "metadata": {},
   "outputs": [
    {
     "name": "stdout",
     "output_type": "stream",
     "text": [
      "<class 'pandas.core.frame.DataFrame'>\n",
      "RangeIndex: 614 entries, 0 to 613\n",
      "Data columns (total 12 columns):\n",
      " #   Column             Non-Null Count  Dtype  \n",
      "---  ------             --------------  -----  \n",
      " 0   Gender             614 non-null    object \n",
      " 1   Married            614 non-null    object \n",
      " 2   Dependents         614 non-null    int32  \n",
      " 3   Education          614 non-null    object \n",
      " 4   Self_Employed      614 non-null    object \n",
      " 5   ApplicantIncome    614 non-null    int64  \n",
      " 6   CoapplicantIncome  614 non-null    float64\n",
      " 7   LoanAmount         614 non-null    float64\n",
      " 8   Loan_Amount_Term   614 non-null    float64\n",
      " 9   Credit_History     614 non-null    float64\n",
      " 10  Property_Area      614 non-null    object \n",
      " 11  Loan_Status        614 non-null    object \n",
      "dtypes: float64(4), int32(1), int64(1), object(6)\n",
      "memory usage: 55.3+ KB\n"
     ]
    }
   ],
   "source": [
    "#checking if datatype is changed\n",
    "\n",
    "data.info()"
   ]
  },
  {
   "cell_type": "markdown",
   "id": "7e7ded77",
   "metadata": {},
   "source": [
    "# Encoding the categorical columns using Label Encoder"
   ]
  },
  {
   "cell_type": "code",
   "execution_count": 277,
   "id": "08f23e0e",
   "metadata": {},
   "outputs": [],
   "source": [
    "from sklearn.preprocessing import LabelEncoder"
   ]
  },
  {
   "cell_type": "code",
   "execution_count": 278,
   "id": "a5e249a9",
   "metadata": {},
   "outputs": [],
   "source": [
    "label_enc=LabelEncoder()"
   ]
  },
  {
   "cell_type": "code",
   "execution_count": 279,
   "id": "49f7a5bb",
   "metadata": {},
   "outputs": [],
   "source": [
    "df1=label_enc.fit_transform(data['Gender'])\n",
    "df2=label_enc.fit_transform(data['Married'])\n",
    "df3=label_enc.fit_transform(data['Education'])\n",
    "df4=label_enc.fit_transform(data['Self_Employed'])\n",
    "df5=label_enc.fit_transform(data['Property_Area'])\n",
    "df6=label_enc.fit_transform(data['Loan_Status'])\n"
   ]
  },
  {
   "cell_type": "code",
   "execution_count": 280,
   "id": "be6828a7",
   "metadata": {},
   "outputs": [],
   "source": [
    "data['Gender']=df1\n",
    "data['Married']=df2\n",
    "data['Education']=df3\n",
    "data['Self_Employed']=df4\n",
    "data['Property_Area']=df5\n",
    "data['Loan_Status']=df6"
   ]
  },
  {
   "cell_type": "code",
   "execution_count": 281,
   "id": "edeb0551",
   "metadata": {
    "scrolled": false
   },
   "outputs": [
    {
     "data": {
      "text/html": [
       "<div>\n",
       "<style scoped>\n",
       "    .dataframe tbody tr th:only-of-type {\n",
       "        vertical-align: middle;\n",
       "    }\n",
       "\n",
       "    .dataframe tbody tr th {\n",
       "        vertical-align: top;\n",
       "    }\n",
       "\n",
       "    .dataframe thead th {\n",
       "        text-align: right;\n",
       "    }\n",
       "</style>\n",
       "<table border=\"1\" class=\"dataframe\">\n",
       "  <thead>\n",
       "    <tr style=\"text-align: right;\">\n",
       "      <th></th>\n",
       "      <th>Gender</th>\n",
       "      <th>Married</th>\n",
       "      <th>Dependents</th>\n",
       "      <th>Education</th>\n",
       "      <th>Self_Employed</th>\n",
       "      <th>ApplicantIncome</th>\n",
       "      <th>CoapplicantIncome</th>\n",
       "      <th>LoanAmount</th>\n",
       "      <th>Loan_Amount_Term</th>\n",
       "      <th>Credit_History</th>\n",
       "      <th>Property_Area</th>\n",
       "      <th>Loan_Status</th>\n",
       "    </tr>\n",
       "  </thead>\n",
       "  <tbody>\n",
       "    <tr>\n",
       "      <th>0</th>\n",
       "      <td>1</td>\n",
       "      <td>0</td>\n",
       "      <td>0</td>\n",
       "      <td>0</td>\n",
       "      <td>0</td>\n",
       "      <td>5849</td>\n",
       "      <td>0.0</td>\n",
       "      <td>128.0</td>\n",
       "      <td>360.0</td>\n",
       "      <td>1.0</td>\n",
       "      <td>2</td>\n",
       "      <td>1</td>\n",
       "    </tr>\n",
       "    <tr>\n",
       "      <th>1</th>\n",
       "      <td>1</td>\n",
       "      <td>1</td>\n",
       "      <td>1</td>\n",
       "      <td>0</td>\n",
       "      <td>0</td>\n",
       "      <td>4583</td>\n",
       "      <td>1508.0</td>\n",
       "      <td>128.0</td>\n",
       "      <td>360.0</td>\n",
       "      <td>1.0</td>\n",
       "      <td>0</td>\n",
       "      <td>0</td>\n",
       "    </tr>\n",
       "    <tr>\n",
       "      <th>2</th>\n",
       "      <td>1</td>\n",
       "      <td>1</td>\n",
       "      <td>0</td>\n",
       "      <td>0</td>\n",
       "      <td>1</td>\n",
       "      <td>3000</td>\n",
       "      <td>0.0</td>\n",
       "      <td>66.0</td>\n",
       "      <td>360.0</td>\n",
       "      <td>1.0</td>\n",
       "      <td>2</td>\n",
       "      <td>1</td>\n",
       "    </tr>\n",
       "    <tr>\n",
       "      <th>3</th>\n",
       "      <td>1</td>\n",
       "      <td>1</td>\n",
       "      <td>0</td>\n",
       "      <td>1</td>\n",
       "      <td>0</td>\n",
       "      <td>2583</td>\n",
       "      <td>2358.0</td>\n",
       "      <td>120.0</td>\n",
       "      <td>360.0</td>\n",
       "      <td>1.0</td>\n",
       "      <td>2</td>\n",
       "      <td>1</td>\n",
       "    </tr>\n",
       "    <tr>\n",
       "      <th>4</th>\n",
       "      <td>1</td>\n",
       "      <td>0</td>\n",
       "      <td>0</td>\n",
       "      <td>0</td>\n",
       "      <td>0</td>\n",
       "      <td>6000</td>\n",
       "      <td>0.0</td>\n",
       "      <td>141.0</td>\n",
       "      <td>360.0</td>\n",
       "      <td>1.0</td>\n",
       "      <td>2</td>\n",
       "      <td>1</td>\n",
       "    </tr>\n",
       "  </tbody>\n",
       "</table>\n",
       "</div>"
      ],
      "text/plain": [
       "   Gender  Married  Dependents  Education  Self_Employed  ApplicantIncome  \\\n",
       "0       1        0           0          0              0             5849   \n",
       "1       1        1           1          0              0             4583   \n",
       "2       1        1           0          0              1             3000   \n",
       "3       1        1           0          1              0             2583   \n",
       "4       1        0           0          0              0             6000   \n",
       "\n",
       "   CoapplicantIncome  LoanAmount  Loan_Amount_Term  Credit_History  \\\n",
       "0                0.0       128.0             360.0             1.0   \n",
       "1             1508.0       128.0             360.0             1.0   \n",
       "2                0.0        66.0             360.0             1.0   \n",
       "3             2358.0       120.0             360.0             1.0   \n",
       "4                0.0       141.0             360.0             1.0   \n",
       "\n",
       "   Property_Area  Loan_Status  \n",
       "0              2            1  \n",
       "1              0            0  \n",
       "2              2            1  \n",
       "3              2            1  \n",
       "4              2            1  "
      ]
     },
     "execution_count": 281,
     "metadata": {},
     "output_type": "execute_result"
    }
   ],
   "source": [
    "data.head()"
   ]
  },
  {
   "cell_type": "markdown",
   "id": "2c4ff7c6",
   "metadata": {},
   "source": [
    "# Describing the dataset"
   ]
  },
  {
   "cell_type": "code",
   "execution_count": 144,
   "id": "21fb1ada",
   "metadata": {},
   "outputs": [
    {
     "data": {
      "text/html": [
       "<div>\n",
       "<style scoped>\n",
       "    .dataframe tbody tr th:only-of-type {\n",
       "        vertical-align: middle;\n",
       "    }\n",
       "\n",
       "    .dataframe tbody tr th {\n",
       "        vertical-align: top;\n",
       "    }\n",
       "\n",
       "    .dataframe thead th {\n",
       "        text-align: right;\n",
       "    }\n",
       "</style>\n",
       "<table border=\"1\" class=\"dataframe\">\n",
       "  <thead>\n",
       "    <tr style=\"text-align: right;\">\n",
       "      <th></th>\n",
       "      <th>Gender</th>\n",
       "      <th>Married</th>\n",
       "      <th>Dependents</th>\n",
       "      <th>Education</th>\n",
       "      <th>Self_Employed</th>\n",
       "      <th>ApplicantIncome</th>\n",
       "      <th>CoapplicantIncome</th>\n",
       "      <th>LoanAmount</th>\n",
       "      <th>Loan_Amount_Term</th>\n",
       "      <th>Credit_History</th>\n",
       "      <th>Property_Area</th>\n",
       "      <th>Loan_Status</th>\n",
       "    </tr>\n",
       "  </thead>\n",
       "  <tbody>\n",
       "    <tr>\n",
       "      <th>count</th>\n",
       "      <td>614.000000</td>\n",
       "      <td>614.000000</td>\n",
       "      <td>614.000000</td>\n",
       "      <td>614.000000</td>\n",
       "      <td>614.000000</td>\n",
       "      <td>614.000000</td>\n",
       "      <td>614.000000</td>\n",
       "      <td>614.000000</td>\n",
       "      <td>614.000000</td>\n",
       "      <td>614.000000</td>\n",
       "      <td>614.000000</td>\n",
       "      <td>614.000000</td>\n",
       "    </tr>\n",
       "    <tr>\n",
       "      <th>mean</th>\n",
       "      <td>0.817590</td>\n",
       "      <td>0.653094</td>\n",
       "      <td>0.744300</td>\n",
       "      <td>0.218241</td>\n",
       "      <td>0.133550</td>\n",
       "      <td>5403.459283</td>\n",
       "      <td>1621.245798</td>\n",
       "      <td>145.752443</td>\n",
       "      <td>342.410423</td>\n",
       "      <td>0.855049</td>\n",
       "      <td>1.037459</td>\n",
       "      <td>0.687296</td>\n",
       "    </tr>\n",
       "    <tr>\n",
       "      <th>std</th>\n",
       "      <td>0.386497</td>\n",
       "      <td>0.476373</td>\n",
       "      <td>1.009623</td>\n",
       "      <td>0.413389</td>\n",
       "      <td>0.340446</td>\n",
       "      <td>6109.041673</td>\n",
       "      <td>2926.248369</td>\n",
       "      <td>84.107233</td>\n",
       "      <td>64.428629</td>\n",
       "      <td>0.352339</td>\n",
       "      <td>0.787482</td>\n",
       "      <td>0.463973</td>\n",
       "    </tr>\n",
       "    <tr>\n",
       "      <th>min</th>\n",
       "      <td>0.000000</td>\n",
       "      <td>0.000000</td>\n",
       "      <td>0.000000</td>\n",
       "      <td>0.000000</td>\n",
       "      <td>0.000000</td>\n",
       "      <td>150.000000</td>\n",
       "      <td>0.000000</td>\n",
       "      <td>9.000000</td>\n",
       "      <td>12.000000</td>\n",
       "      <td>0.000000</td>\n",
       "      <td>0.000000</td>\n",
       "      <td>0.000000</td>\n",
       "    </tr>\n",
       "    <tr>\n",
       "      <th>25%</th>\n",
       "      <td>1.000000</td>\n",
       "      <td>0.000000</td>\n",
       "      <td>0.000000</td>\n",
       "      <td>0.000000</td>\n",
       "      <td>0.000000</td>\n",
       "      <td>2877.500000</td>\n",
       "      <td>0.000000</td>\n",
       "      <td>100.250000</td>\n",
       "      <td>360.000000</td>\n",
       "      <td>1.000000</td>\n",
       "      <td>0.000000</td>\n",
       "      <td>0.000000</td>\n",
       "    </tr>\n",
       "    <tr>\n",
       "      <th>50%</th>\n",
       "      <td>1.000000</td>\n",
       "      <td>1.000000</td>\n",
       "      <td>0.000000</td>\n",
       "      <td>0.000000</td>\n",
       "      <td>0.000000</td>\n",
       "      <td>3812.500000</td>\n",
       "      <td>1188.500000</td>\n",
       "      <td>128.000000</td>\n",
       "      <td>360.000000</td>\n",
       "      <td>1.000000</td>\n",
       "      <td>1.000000</td>\n",
       "      <td>1.000000</td>\n",
       "    </tr>\n",
       "    <tr>\n",
       "      <th>75%</th>\n",
       "      <td>1.000000</td>\n",
       "      <td>1.000000</td>\n",
       "      <td>1.000000</td>\n",
       "      <td>0.000000</td>\n",
       "      <td>0.000000</td>\n",
       "      <td>5795.000000</td>\n",
       "      <td>2297.250000</td>\n",
       "      <td>164.750000</td>\n",
       "      <td>360.000000</td>\n",
       "      <td>1.000000</td>\n",
       "      <td>2.000000</td>\n",
       "      <td>1.000000</td>\n",
       "    </tr>\n",
       "    <tr>\n",
       "      <th>max</th>\n",
       "      <td>1.000000</td>\n",
       "      <td>1.000000</td>\n",
       "      <td>3.000000</td>\n",
       "      <td>1.000000</td>\n",
       "      <td>1.000000</td>\n",
       "      <td>81000.000000</td>\n",
       "      <td>41667.000000</td>\n",
       "      <td>700.000000</td>\n",
       "      <td>480.000000</td>\n",
       "      <td>1.000000</td>\n",
       "      <td>2.000000</td>\n",
       "      <td>1.000000</td>\n",
       "    </tr>\n",
       "  </tbody>\n",
       "</table>\n",
       "</div>"
      ],
      "text/plain": [
       "           Gender     Married  Dependents   Education  Self_Employed  \\\n",
       "count  614.000000  614.000000  614.000000  614.000000     614.000000   \n",
       "mean     0.817590    0.653094    0.744300    0.218241       0.133550   \n",
       "std      0.386497    0.476373    1.009623    0.413389       0.340446   \n",
       "min      0.000000    0.000000    0.000000    0.000000       0.000000   \n",
       "25%      1.000000    0.000000    0.000000    0.000000       0.000000   \n",
       "50%      1.000000    1.000000    0.000000    0.000000       0.000000   \n",
       "75%      1.000000    1.000000    1.000000    0.000000       0.000000   \n",
       "max      1.000000    1.000000    3.000000    1.000000       1.000000   \n",
       "\n",
       "       ApplicantIncome  CoapplicantIncome  LoanAmount  Loan_Amount_Term  \\\n",
       "count       614.000000         614.000000  614.000000        614.000000   \n",
       "mean       5403.459283        1621.245798  145.752443        342.410423   \n",
       "std        6109.041673        2926.248369   84.107233         64.428629   \n",
       "min         150.000000           0.000000    9.000000         12.000000   \n",
       "25%        2877.500000           0.000000  100.250000        360.000000   \n",
       "50%        3812.500000        1188.500000  128.000000        360.000000   \n",
       "75%        5795.000000        2297.250000  164.750000        360.000000   \n",
       "max       81000.000000       41667.000000  700.000000        480.000000   \n",
       "\n",
       "       Credit_History  Property_Area  Loan_Status  \n",
       "count      614.000000     614.000000   614.000000  \n",
       "mean         0.855049       1.037459     0.687296  \n",
       "std          0.352339       0.787482     0.463973  \n",
       "min          0.000000       0.000000     0.000000  \n",
       "25%          1.000000       0.000000     0.000000  \n",
       "50%          1.000000       1.000000     1.000000  \n",
       "75%          1.000000       2.000000     1.000000  \n",
       "max          1.000000       2.000000     1.000000  "
      ]
     },
     "execution_count": 144,
     "metadata": {},
     "output_type": "execute_result"
    }
   ],
   "source": [
    "data.describe()"
   ]
  },
  {
   "cell_type": "markdown",
   "id": "ff9b9dec",
   "metadata": {},
   "source": [
    "- highest income of applicant can be seen is 81000 while lowest is 150, while average applicants income is 5403. looking at the interquantile values it can be seen that there are presence of outliers and presence of skewness.\n",
    "- Skewness and presence of outliers can be seen after looking at interquantile ranges of Co-applicant Income, Loan Amount and Loan Amount term columns."
   ]
  },
  {
   "cell_type": "code",
   "execution_count": 148,
   "id": "27a93420",
   "metadata": {},
   "outputs": [
    {
     "data": {
      "image/png": "[encoded data removed]",
      "text/plain": [
       "<Figure size 1440x1440 with 2 Axes>"
      ]
     },
     "metadata": {
      "needs_background": "light"
     },
     "output_type": "display_data"
    }
   ],
   "source": [
    "# plotting heatmap to check for collinearity\n",
    "\n",
    "plt.figure(figsize=(20,20))\n",
    "sns.heatmap(data.corr(),annot=True)\n",
    "plt.title('Correlation matrix')\n",
    "plt.show()"
   ]
  },
  {
   "cell_type": "markdown",
   "id": "14f2abcd",
   "metadata": {},
   "source": [
    "- There is no multicollinearity seen within the features.\n",
    "- Highest positively related feature to Label(Loan_status) is Credit History i.e. for 54%\n",
    "- There is 57% relationhip seen between Applicant Income and Loan Amount."
   ]
  },
  {
   "cell_type": "code",
   "execution_count": 150,
   "id": "70dd81ea",
   "metadata": {},
   "outputs": [
    {
     "data": {
      "image/png": "[encoded data removed]",
      "text/plain": [
       "<Figure size 1080x360 with 1 Axes>"
      ]
     },
     "metadata": {
      "needs_background": "light"
     },
     "output_type": "display_data"
    }
   ],
   "source": [
    "#plotting a coorelation plot that will show relation of features with label(region)\n",
    "\n",
    "plt.figure(figsize=(15,5))\n",
    "data.corr()['Loan_Status'].sort_values(ascending=False).drop(['Loan_Status']).plot(kind='bar')\n",
    "plt.xlabel('Features')\n",
    "plt.ylabel('Loan_Status')\n",
    "plt.title('correlation')\n",
    "plt.show()"
   ]
  },
  {
   "cell_type": "markdown",
   "id": "2db737c2",
   "metadata": {},
   "source": [
    "- As said earlier credit history is highest positively related to label, while Education highest is negatively related to label."
   ]
  },
  {
   "cell_type": "markdown",
   "id": "984eacf4",
   "metadata": {},
   "source": [
    "# Outlier removal"
   ]
  },
  {
   "cell_type": "code",
   "execution_count": 282,
   "id": "1342c435",
   "metadata": {},
   "outputs": [],
   "source": [
    "features=['ApplicantIncome', 'CoapplicantIncome', 'LoanAmount',\n",
    "       'Loan_Amount_Term']"
   ]
  },
  {
   "cell_type": "code",
   "execution_count": 283,
   "id": "00d4daa3",
   "metadata": {},
   "outputs": [
    {
     "data": {
      "image/png": "[encoded data removed]",
      "text/plain": [
       "<Figure size 1440x1440 with 4 Axes>"
      ]
     },
     "metadata": {
      "needs_background": "light"
     },
     "output_type": "display_data"
    }
   ],
   "source": [
    "plt.figure(figsize=(20,20))\n",
    "plotnumber=1\n",
    "\n",
    "for column in features:\n",
    "    if plotnumber<=4:\n",
    "        ax=plt.subplot(2,2,plotnumber)\n",
    "        sns.boxplot(data[column])\n",
    "        plt.xlabel(column)\n",
    "    plotnumber+=1\n",
    "plt.show()"
   ]
  },
  {
   "cell_type": "markdown",
   "id": "e1547928",
   "metadata": {},
   "source": [
    "- Looking at the above plots for continuous data, it is seen that there are presence of outliers"
   ]
  },
  {
   "cell_type": "markdown",
   "id": "bfb518c4",
   "metadata": {},
   "source": [
    "# Removing outliers using z-score method"
   ]
  },
  {
   "cell_type": "code",
   "execution_count": 284,
   "id": "2a3fcdd3",
   "metadata": {},
   "outputs": [],
   "source": [
    "#importing zscore library\n",
    "\n",
    "from scipy.stats import zscore"
   ]
  },
  {
   "cell_type": "code",
   "execution_count": 285,
   "id": "ccf891e5",
   "metadata": {},
   "outputs": [],
   "source": [
    "#inputing continuous data \n",
    "\n",
    "z_score=zscore(data[['ApplicantIncome', 'CoapplicantIncome', 'LoanAmount',\n",
    "       'Loan_Amount_Term']])"
   ]
  },
  {
   "cell_type": "code",
   "execution_count": 286,
   "id": "948b8c05",
   "metadata": {},
   "outputs": [],
   "source": [
    "abs_z_score=np.abs(z_score)"
   ]
  },
  {
   "cell_type": "code",
   "execution_count": 287,
   "id": "b0458976",
   "metadata": {},
   "outputs": [],
   "source": [
    "filtering_entry=(abs_z_score<3).all(axis=1)"
   ]
  },
  {
   "cell_type": "code",
   "execution_count": 288,
   "id": "92c9128b",
   "metadata": {},
   "outputs": [],
   "source": [
    "data=data[filtering_entry]"
   ]
  },
  {
   "cell_type": "code",
   "execution_count": 289,
   "id": "4d9cc185",
   "metadata": {},
   "outputs": [
    {
     "data": {
      "text/plain": [
       "(577, 12)"
      ]
     },
     "execution_count": 289,
     "metadata": {},
     "output_type": "execute_result"
    }
   ],
   "source": [
    "#dataset shape after removing outliers\n",
    "\n",
    "data.shape"
   ]
  },
  {
   "cell_type": "markdown",
   "id": "8589a561",
   "metadata": {},
   "source": [
    "# Data loss after removing outliers"
   ]
  },
  {
   "cell_type": "code",
   "execution_count": 290,
   "id": "f29e8a89",
   "metadata": {},
   "outputs": [
    {
     "name": "stdout",
     "output_type": "stream",
     "text": [
      "data loss in percent after removing outliers is: 6.412478336221837%\n"
     ]
    }
   ],
   "source": [
    "# data loss percentage \n",
    "\n",
    "data_loss=((614-577)/577)*100\n",
    "print(f'data loss in percent after removing outliers is: {data_loss}%')"
   ]
  },
  {
   "cell_type": "markdown",
   "id": "8afd9ed8",
   "metadata": {},
   "source": [
    "# Checking for skewness in dataset"
   ]
  },
  {
   "cell_type": "code",
   "execution_count": 291,
   "id": "9fe4d417",
   "metadata": {},
   "outputs": [
    {
     "data": {
      "text/plain": [
       "Gender              -1.622920\n",
       "Married             -0.630211\n",
       "Dependents           1.052106\n",
       "Education            1.306588\n",
       "Self_Employed        2.252848\n",
       "ApplicantIncome      2.148522\n",
       "CoapplicantIncome    1.350517\n",
       "LoanAmount           1.151525\n",
       "Loan_Amount_Term    -2.098806\n",
       "Credit_History      -1.976043\n",
       "Property_Area       -0.055332\n",
       "Loan_Status         -0.822635\n",
       "dtype: float64"
      ]
     },
     "execution_count": 291,
     "metadata": {},
     "output_type": "execute_result"
    }
   ],
   "source": [
    "data.skew()"
   ]
  },
  {
   "cell_type": "code",
   "execution_count": 292,
   "id": "a59fdb55",
   "metadata": {
    "scrolled": true
   },
   "outputs": [
    {
     "data": {
      "image/png": "[encoded data removed]",
      "text/plain": [
       "<Figure size 1440x1440 with 4 Axes>"
      ]
     },
     "metadata": {
      "needs_background": "light"
     },
     "output_type": "display_data"
    }
   ],
   "source": [
    "plt.figure(figsize=(20,20))\n",
    "plotnumber=1\n",
    "\n",
    "for column in features:\n",
    "    if plotnumber<=4:\n",
    "        ax=plt.subplot(2,2,plotnumber)\n",
    "        sns.distplot(data[column])\n",
    "        plt.xlabel(column)\n",
    "    plotnumber+=1\n",
    "plt.show()"
   ]
  },
  {
   "cell_type": "markdown",
   "id": "f3c99ed5",
   "metadata": {},
   "source": [
    "- As seen above data is highly skewed for all 5 columns.\n",
    "\n",
    "# Hence removing skewness using Power Transformer"
   ]
  },
  {
   "cell_type": "code",
   "execution_count": 293,
   "id": "2b81d9c9",
   "metadata": {},
   "outputs": [],
   "source": [
    "features=['ApplicantIncome', 'CoapplicantIncome', 'LoanAmount',\n",
    "       'Loan_Amount_Term']"
   ]
  },
  {
   "cell_type": "code",
   "execution_count": 294,
   "id": "08d316c5",
   "metadata": {},
   "outputs": [],
   "source": [
    "#importing library\n",
    "from sklearn.preprocessing import PowerTransformer\n",
    "\n",
    "scaler=PowerTransformer(method='yeo-johnson') #using yeo-johnson method to transform"
   ]
  },
  {
   "cell_type": "code",
   "execution_count": 295,
   "id": "96269e63",
   "metadata": {},
   "outputs": [],
   "source": [
    "#transforming the data\n",
    "data[features]=scaler.fit_transform(data[features])"
   ]
  },
  {
   "cell_type": "code",
   "execution_count": 296,
   "id": "903bf36a",
   "metadata": {},
   "outputs": [
    {
     "data": {
      "text/plain": [
       "ApplicantIncome      0.027981\n",
       "CoapplicantIncome   -0.191876\n",
       "LoanAmount           0.048425\n",
       "Loan_Amount_Term     0.727533\n",
       "dtype: float64"
      ]
     },
     "execution_count": 296,
     "metadata": {},
     "output_type": "execute_result"
    }
   ],
   "source": [
    "#printing features to check for skewness after\n",
    "data[features].skew()"
   ]
  },
  {
   "cell_type": "markdown",
   "id": "10cbbb6e",
   "metadata": {},
   "source": [
    "from above output it looks like skewness is lowered and is within +-0.5 range now"
   ]
  },
  {
   "cell_type": "markdown",
   "id": "5176e3eb",
   "metadata": {},
   "source": [
    "# Using feature selection to find best features that are related to better model building."
   ]
  },
  {
   "cell_type": "code",
   "execution_count": 299,
   "id": "0e96ddc1",
   "metadata": {},
   "outputs": [],
   "source": [
    "#importing required libraries\n",
    "from sklearn.feature_selection import SelectKBest, f_classif"
   ]
  },
  {
   "cell_type": "code",
   "execution_count": 306,
   "id": "8ee7614d",
   "metadata": {},
   "outputs": [],
   "source": [
    "best_features=SelectKBest(score_func=f_classif,k=10)"
   ]
  },
  {
   "cell_type": "code",
   "execution_count": 307,
   "id": "6e9c8d60",
   "metadata": {},
   "outputs": [],
   "source": [
    "fit=best_features.fit(x,y)"
   ]
  },
  {
   "cell_type": "code",
   "execution_count": 308,
   "id": "965f41a2",
   "metadata": {},
   "outputs": [],
   "source": [
    "data_scores=pd.DataFrame(fit.scores_)"
   ]
  },
  {
   "cell_type": "code",
   "execution_count": 309,
   "id": "6e5931b3",
   "metadata": {},
   "outputs": [],
   "source": [
    "data_columns=pd.DataFrame(x.columns)"
   ]
  },
  {
   "cell_type": "code",
   "execution_count": 310,
   "id": "a465e5e9",
   "metadata": {},
   "outputs": [],
   "source": [
    "feature_scores=pd.concat([data_columns,data_scores],axis=1)\n",
    "feature_scores.columns=['Feature_Name','Score']"
   ]
  },
  {
   "cell_type": "code",
   "execution_count": 312,
   "id": "5945c4a8",
   "metadata": {},
   "outputs": [
    {
     "name": "stdout",
     "output_type": "stream",
     "text": [
      "         Feature_Name       Score\n",
      "9      Credit_History  263.985861\n",
      "3           Education    4.979459\n",
      "1             Married    4.593676\n",
      "6   CoapplicantIncome    3.642819\n",
      "8    Loan_Amount_Term    1.848621\n",
      "4       Self_Employed    0.404840\n",
      "10      Property_Area    0.404285\n",
      "7          LoanAmount    0.320687\n",
      "2          Dependents    0.183728\n",
      "0              Gender    0.174308\n"
     ]
    }
   ],
   "source": [
    "print(feature_scores.nlargest(10,'Score'))"
   ]
  },
  {
   "cell_type": "markdown",
   "id": "8a83eff7",
   "metadata": {},
   "source": [
    "- It can be seen that if I choose 10 features that are related to Label then Applicant_Income column drops out, which means according to system applicant's income is not related to approval of Loan. If we take this Logically then applicant's Income is the major factor for banks to grant anybody loan. For example, if a person is not working/earning very less compared to his loan amount, then banks wont provide him loans.\n",
    "-  **This will be the sole reason I will not drop any columns from data and build a model taking all the columns into consideraton.**"
   ]
  },
  {
   "cell_type": "code",
   "execution_count": 314,
   "id": "ce62bd6e",
   "metadata": {},
   "outputs": [
    {
     "data": {
      "text/plain": [
       "1    398\n",
       "0    179\n",
       "Name: Loan_Status, dtype: int64"
      ]
     },
     "execution_count": 314,
     "metadata": {},
     "output_type": "execute_result"
    }
   ],
   "source": [
    "#printing value counts in Loan_Status column\n",
    "\n",
    "data['Loan_Status'].value_counts()"
   ]
  },
  {
   "cell_type": "markdown",
   "id": "76e76bd0",
   "metadata": {},
   "source": [
    "It can be seen from above output that more number of 1 data is present and less number of 0,\n",
    "# Hence applying SMOTE to remove Oversampling"
   ]
  },
  {
   "cell_type": "code",
   "execution_count": 315,
   "id": "28aa57f9",
   "metadata": {},
   "outputs": [],
   "source": [
    "#splitting data into features and label\n",
    "\n",
    "x=data.drop(['Loan_Status'],axis=1)\n",
    "y=data['Loan_Status']"
   ]
  },
  {
   "cell_type": "code",
   "execution_count": 316,
   "id": "d1f8c888",
   "metadata": {},
   "outputs": [],
   "source": [
    "#importing library for SMOTE\n",
    "from imblearn.over_sampling import SMOTE\n",
    "from collections import Counter\n",
    "\n",
    "sm=SMOTE(0.80)"
   ]
  },
  {
   "cell_type": "code",
   "execution_count": 317,
   "id": "a2f8212c",
   "metadata": {},
   "outputs": [
    {
     "name": "stdout",
     "output_type": "stream",
     "text": [
      "The no. of classes before fit Counter({1: 398, 0: 179})\n",
      "The no. of classes after fit Counter({1: 398, 0: 318})\n"
     ]
    }
   ],
   "source": [
    "x_new,y_new=sm.fit_resample(x,y)\n",
    "print('The no. of classes before fit',format(Counter(y)))\n",
    "print('The no. of classes after fit',format(Counter(y_new)))"
   ]
  },
  {
   "cell_type": "code",
   "execution_count": 318,
   "id": "0b592fe4",
   "metadata": {},
   "outputs": [
    {
     "data": {
      "text/plain": [
       "1    398\n",
       "0    318\n",
       "Name: Loan_Status, dtype: int64"
      ]
     },
     "execution_count": 318,
     "metadata": {},
     "output_type": "execute_result"
    }
   ],
   "source": [
    "#new data for label\n",
    "y_new.value_counts()"
   ]
  },
  {
   "cell_type": "markdown",
   "id": "00638211",
   "metadata": {},
   "source": [
    "# Since power transformer was used on continuous columns which scales the data, hence data scaling is not done before model building."
   ]
  },
  {
   "cell_type": "markdown",
   "id": "8de91c2d",
   "metadata": {},
   "source": [
    "# Model Buiding part"
   ]
  },
  {
   "cell_type": "code",
   "execution_count": 319,
   "id": "2563d271",
   "metadata": {},
   "outputs": [],
   "source": [
    "#Logistic Regression Model\n",
    "#importing libraries\n",
    "\n",
    "from sklearn.model_selection import train_test_split\n",
    "from sklearn.linear_model import LogisticRegression\n",
    "from sklearn.metrics import accuracy_score,confusion_matrix,classification_report,f1_score"
   ]
  },
  {
   "cell_type": "code",
   "execution_count": 320,
   "id": "88484e69",
   "metadata": {},
   "outputs": [],
   "source": [
    "#assigning variable to model\n",
    "lr=LogisticRegression()"
   ]
  },
  {
   "cell_type": "code",
   "execution_count": 321,
   "id": "34bbfae2",
   "metadata": {},
   "outputs": [
    {
     "name": "stdout",
     "output_type": "stream",
     "text": [
      "training accuracy is  76.16387337057728  for random state  0\n",
      "testing accuracy is  79.88826815642457  for random state  0\n",
      "training accuracy is  75.97765363128491  for random state  1\n",
      "testing accuracy is  74.86033519553072  for random state  1\n",
      "training accuracy is  77.28119180633148  for random state  2\n",
      "testing accuracy is  72.06703910614524  for random state  2\n",
      "training accuracy is  77.6536312849162  for random state  3\n",
      "testing accuracy is  73.18435754189943  for random state  3\n",
      "training accuracy is  77.6536312849162  for random state  4\n",
      "testing accuracy is  74.86033519553072  for random state  4\n",
      "training accuracy is  76.53631284916202  for random state  5\n",
      "testing accuracy is  77.6536312849162  for random state  5\n",
      "training accuracy is  76.16387337057728  for random state  6\n",
      "testing accuracy is  73.74301675977654  for random state  6\n",
      "training accuracy is  79.3296089385475  for random state  7\n",
      "testing accuracy is  68.15642458100558  for random state  7\n",
      "training accuracy is  77.6536312849162  for random state  8\n",
      "testing accuracy is  72.62569832402235  for random state  8\n",
      "training accuracy is  77.28119180633148  for random state  9\n",
      "testing accuracy is  77.09497206703911  for random state  9\n",
      "training accuracy is  75.23277467411546  for random state  10\n",
      "testing accuracy is  75.41899441340783  for random state  10\n",
      "training accuracy is  77.83985102420856  for random state  11\n",
      "testing accuracy is  71.50837988826815  for random state  11\n",
      "training accuracy is  76.16387337057728  for random state  12\n",
      "testing accuracy is  77.09497206703911  for random state  12\n",
      "training accuracy is  74.30167597765363  for random state  13\n",
      "testing accuracy is  79.3296089385475  for random state  13\n",
      "training accuracy is  76.16387337057728  for random state  14\n",
      "testing accuracy is  78.2122905027933  for random state  14\n",
      "training accuracy is  76.16387337057728  for random state  15\n",
      "testing accuracy is  77.09497206703911  for random state  15\n",
      "training accuracy is  76.16387337057728  for random state  16\n",
      "testing accuracy is  75.41899441340783  for random state  16\n",
      "training accuracy is  76.53631284916202  for random state  17\n",
      "testing accuracy is  72.06703910614524  for random state  17\n",
      "training accuracy is  77.28119180633148  for random state  18\n",
      "testing accuracy is  74.30167597765363  for random state  18\n",
      "training accuracy is  78.39851024208566  for random state  19\n",
      "testing accuracy is  75.97765363128491  for random state  19\n",
      "training accuracy is  76.72253258845437  for random state  20\n",
      "testing accuracy is  72.62569832402235  for random state  20\n",
      "training accuracy is  76.90875232774674  for random state  21\n",
      "testing accuracy is  76.53631284916202  for random state  21\n",
      "training accuracy is  76.72253258845437  for random state  22\n",
      "testing accuracy is  75.41899441340783  for random state  22\n",
      "training accuracy is  78.02607076350093  for random state  23\n",
      "testing accuracy is  71.50837988826815  for random state  23\n",
      "training accuracy is  76.90875232774674  for random state  24\n",
      "testing accuracy is  78.77094972067039  for random state  24\n",
      "training accuracy is  77.28119180633148  for random state  25\n",
      "testing accuracy is  72.06703910614524  for random state  25\n",
      "training accuracy is  75.60521415270019  for random state  26\n",
      "testing accuracy is  76.53631284916202  for random state  26\n",
      "training accuracy is  76.16387337057728  for random state  27\n",
      "testing accuracy is  77.6536312849162  for random state  27\n",
      "training accuracy is  75.41899441340783  for random state  28\n",
      "testing accuracy is  76.53631284916202  for random state  28\n",
      "training accuracy is  75.60521415270019  for random state  29\n",
      "testing accuracy is  73.74301675977654  for random state  29\n",
      "training accuracy is  76.16387337057728  for random state  30\n",
      "testing accuracy is  73.74301675977654  for random state  30\n",
      "training accuracy is  75.04655493482309  for random state  31\n",
      "testing accuracy is  80.44692737430168  for random state  31\n",
      "training accuracy is  77.09497206703911  for random state  32\n",
      "testing accuracy is  75.41899441340783  for random state  32\n",
      "training accuracy is  76.53631284916202  for random state  33\n",
      "testing accuracy is  75.41899441340783  for random state  33\n",
      "training accuracy is  77.46741154562383  for random state  34\n",
      "testing accuracy is  73.18435754189943  for random state  34\n",
      "training accuracy is  76.16387337057728  for random state  35\n",
      "testing accuracy is  69.27374301675978  for random state  35\n",
      "training accuracy is  78.2122905027933  for random state  36\n",
      "testing accuracy is  69.83240223463687  for random state  36\n",
      "training accuracy is  76.35009310986965  for random state  37\n",
      "testing accuracy is  78.2122905027933  for random state  37\n",
      "training accuracy is  75.97765363128491  for random state  38\n",
      "testing accuracy is  78.2122905027933  for random state  38\n",
      "training accuracy is  76.16387337057728  for random state  39\n",
      "testing accuracy is  78.77094972067039  for random state  39\n",
      "training accuracy is  75.41899441340783  for random state  40\n",
      "testing accuracy is  77.09497206703911  for random state  40\n",
      "training accuracy is  75.97765363128491  for random state  41\n",
      "testing accuracy is  75.41899441340783  for random state  41\n",
      "training accuracy is  75.04655493482309  for random state  42\n",
      "testing accuracy is  79.3296089385475  for random state  42\n",
      "training accuracy is  76.90875232774674  for random state  43\n",
      "testing accuracy is  75.97765363128491  for random state  43\n",
      "training accuracy is  75.04655493482309  for random state  44\n",
      "testing accuracy is  77.6536312849162  for random state  44\n",
      "training accuracy is  78.2122905027933  for random state  45\n",
      "testing accuracy is  70.94972067039106  for random state  45\n",
      "training accuracy is  76.53631284916202  for random state  46\n",
      "testing accuracy is  77.09497206703911  for random state  46\n",
      "training accuracy is  77.09497206703911  for random state  47\n",
      "testing accuracy is  73.18435754189943  for random state  47\n",
      "training accuracy is  76.53631284916202  for random state  48\n",
      "testing accuracy is  77.6536312849162  for random state  48\n",
      "training accuracy is  77.6536312849162  for random state  49\n",
      "testing accuracy is  74.86033519553072  for random state  49\n",
      "training accuracy is  76.35009310986965  for random state  50\n",
      "testing accuracy is  77.6536312849162  for random state  50\n",
      "training accuracy is  77.83985102420856  for random state  51\n",
      "testing accuracy is  75.97765363128491  for random state  51\n",
      "training accuracy is  77.83985102420856  for random state  52\n",
      "testing accuracy is  74.86033519553072  for random state  52\n",
      "training accuracy is  77.09497206703911  for random state  53\n",
      "testing accuracy is  74.30167597765363  for random state  53\n",
      "training accuracy is  77.6536312849162  for random state  54\n",
      "testing accuracy is  71.50837988826815  for random state  54\n",
      "training accuracy is  76.90875232774674  for random state  55\n",
      "testing accuracy is  72.62569832402235  for random state  55\n",
      "training accuracy is  76.72253258845437  for random state  56\n",
      "testing accuracy is  75.97765363128491  for random state  56\n",
      "training accuracy is  76.90875232774674  for random state  57\n",
      "testing accuracy is  67.59776536312849  for random state  57\n",
      "training accuracy is  77.46741154562383  for random state  58\n",
      "testing accuracy is  75.97765363128491  for random state  58\n",
      "training accuracy is  77.28119180633148  for random state  59\n",
      "testing accuracy is  71.50837988826815  for random state  59\n",
      "training accuracy is  78.2122905027933  for random state  60\n",
      "testing accuracy is  73.74301675977654  for random state  60\n",
      "training accuracy is  75.23277467411546  for random state  61\n",
      "testing accuracy is  78.77094972067039  for random state  61\n",
      "training accuracy is  77.09497206703911  for random state  62\n",
      "testing accuracy is  70.94972067039106  for random state  62\n",
      "training accuracy is  77.28119180633148  for random state  63\n",
      "testing accuracy is  73.18435754189943  for random state  63\n",
      "training accuracy is  77.46741154562383  for random state  64\n",
      "testing accuracy is  72.06703910614524  for random state  64\n",
      "training accuracy is  77.6536312849162  for random state  65\n",
      "testing accuracy is  67.0391061452514  for random state  65\n",
      "training accuracy is  75.60521415270019  for random state  66\n",
      "testing accuracy is  75.97765363128491  for random state  66\n",
      "training accuracy is  77.09497206703911  for random state  67\n",
      "testing accuracy is  73.18435754189943  for random state  67\n",
      "training accuracy is  75.60521415270019  for random state  68\n",
      "testing accuracy is  80.44692737430168  for random state  68\n",
      "training accuracy is  74.86033519553072  for random state  69\n",
      "testing accuracy is  79.88826815642457  for random state  69\n",
      "training accuracy is  78.95716945996276  for random state  70\n",
      "testing accuracy is  71.50837988826815  for random state  70\n",
      "training accuracy is  77.6536312849162  for random state  71\n",
      "testing accuracy is  74.30167597765363  for random state  71\n",
      "training accuracy is  76.72253258845437  for random state  72\n",
      "testing accuracy is  73.74301675977654  for random state  72\n",
      "training accuracy is  76.90875232774674  for random state  73\n",
      "testing accuracy is  73.18435754189943  for random state  73\n",
      "training accuracy is  76.72253258845437  for random state  74\n",
      "testing accuracy is  75.41899441340783  for random state  74\n",
      "training accuracy is  77.09497206703911  for random state  75\n",
      "testing accuracy is  72.62569832402235  for random state  75\n",
      "training accuracy is  76.53631284916202  for random state  76\n",
      "testing accuracy is  73.74301675977654  for random state  76\n",
      "training accuracy is  74.67411545623837  for random state  77\n",
      "testing accuracy is  79.88826815642457  for random state  77\n",
      "training accuracy is  76.16387337057728  for random state  78\n",
      "testing accuracy is  77.6536312849162  for random state  78\n",
      "training accuracy is  76.72253258845437  for random state  79\n",
      "testing accuracy is  73.18435754189943  for random state  79\n",
      "training accuracy is  75.23277467411546  for random state  80\n",
      "testing accuracy is  80.44692737430168  for random state  80\n",
      "training accuracy is  75.41899441340783  for random state  81\n",
      "testing accuracy is  77.09497206703911  for random state  81\n",
      "training accuracy is  76.90875232774674  for random state  82\n",
      "testing accuracy is  73.18435754189943  for random state  82\n",
      "training accuracy is  77.09497206703911  for random state  83\n",
      "testing accuracy is  74.30167597765363  for random state  83\n",
      "training accuracy is  75.79143389199255  for random state  84\n",
      "testing accuracy is  77.09497206703911  for random state  84\n",
      "training accuracy is  77.28119180633148  for random state  85\n",
      "testing accuracy is  74.30167597765363  for random state  85\n",
      "training accuracy is  75.04655493482309  for random state  86\n",
      "testing accuracy is  81.00558659217877  for random state  86\n",
      "training accuracy is  77.28119180633148  for random state  87\n",
      "testing accuracy is  74.86033519553072  for random state  87\n",
      "training accuracy is  76.53631284916202  for random state  88\n",
      "testing accuracy is  74.30167597765363  for random state  88\n",
      "training accuracy is  77.6536312849162  for random state  89\n",
      "testing accuracy is  70.39106145251397  for random state  89\n",
      "training accuracy is  76.90875232774674  for random state  90\n",
      "testing accuracy is  69.83240223463687  for random state  90\n",
      "training accuracy is  77.28119180633148  for random state  91\n",
      "testing accuracy is  75.41899441340783  for random state  91\n",
      "training accuracy is  78.39851024208566  for random state  92\n",
      "testing accuracy is  73.18435754189943  for random state  92\n",
      "training accuracy is  77.46741154562383  for random state  93\n",
      "testing accuracy is  73.74301675977654  for random state  93\n",
      "training accuracy is  76.16387337057728  for random state  94\n",
      "testing accuracy is  73.74301675977654  for random state  94\n",
      "training accuracy is  75.97765363128491  for random state  95\n",
      "testing accuracy is  75.41899441340783  for random state  95\n",
      "training accuracy is  77.09497206703911  for random state  96\n",
      "testing accuracy is  75.41899441340783  for random state  96\n",
      "training accuracy is  78.39851024208566  for random state  97\n",
      "testing accuracy is  71.50837988826815  for random state  97\n",
      "training accuracy is  76.72253258845437  for random state  98\n",
      "testing accuracy is  72.06703910614524  for random state  98\n",
      "training accuracy is  78.02607076350093  for random state  99\n",
      "testing accuracy is  74.86033519553072  for random state  99\n"
     ]
    }
   ],
   "source": [
    "#finding best random state for model\n",
    "for i in range(0,100):\n",
    "    x_train,x_test,y_train,y_test=train_test_split(x_new,y_new,test_size=0.25,random_state=i)\n",
    "    lr.fit(x_train,y_train)\n",
    "    y_pred=lr.predict(x_train)\n",
    "    pred=lr.predict(x_test)\n",
    "    print('training accuracy is ',(accuracy_score(y_train,y_pred)*100),' for random state ',i)\n",
    "    print('testing accuracy is ',(accuracy_score(y_test,pred)*100),' for random state ',i)\n",
    "    '\\n'"
   ]
  },
  {
   "cell_type": "markdown",
   "id": "74b491db",
   "metadata": {},
   "source": [
    "**Taking random state as 22 for model building**"
   ]
  },
  {
   "cell_type": "code",
   "execution_count": 322,
   "id": "d9e8f455",
   "metadata": {},
   "outputs": [],
   "source": [
    "#initiating train test split thereafter model training\n",
    "x_train,x_test,y_train,y_test=train_test_split(x_new,y_new,test_size=0.25,random_state=22)\n",
    "\n",
    "def metric_score(clf,x_train,x_test,y_train,y_test,train=True):\n",
    "    if train:\n",
    "        y_pred=clf.predict(x_train)\n",
    "        print('-----Training score-----')\n",
    "        print(f'Accuracy score:{accuracy_score(y_train,y_pred)*100:.2f}%')\n",
    "    elif train==False:\n",
    "        pred=clf.predict(x_test)\n",
    "        print('-----Testing score-----')\n",
    "        print(f'Accuracy score:{accuracy_score(y_test,pred)*100:.2f}%')\n",
    "        print('classification report \\n',classification_report (y_test,pred))\n",
    "        print('confusion matrix ',confusion_matrix(y_test,pred))\n",
    "        print('F1 Score ',f1_score(y_test,pred))"
   ]
  },
  {
   "cell_type": "code",
   "execution_count": 323,
   "id": "e436a527",
   "metadata": {},
   "outputs": [
    {
     "data": {
      "text/html": [
       "<style>#sk-container-id-1 {color: black;background-color: white;}#sk-container-id-1 pre{padding: 0;}#sk-container-id-1 div.sk-toggleable {background-color: white;}#sk-container-id-1 label.sk-toggleable__label {cursor: pointer;display: block;width: 100%;margin-bottom: 0;padding: 0.3em;box-sizing: border-box;text-align: center;}#sk-container-id-1 label.sk-toggleable__label-arrow:before {content: \"▸\";float: left;margin-right: 0.25em;color: #696969;}#sk-container-id-1 label.sk-toggleable__label-arrow:hover:before {color: black;}#sk-container-id-1 div.sk-estimator:hover label.sk-toggleable__label-arrow:before {color: black;}#sk-container-id-1 div.sk-toggleable__content {max-height: 0;max-width: 0;overflow: hidden;text-align: left;background-color: #f0f8ff;}#sk-container-id-1 div.sk-toggleable__content pre {margin: 0.2em;color: black;border-radius: 0.25em;background-color: #f0f8ff;}#sk-container-id-1 input.sk-toggleable__control:checked~div.sk-toggleable__content {max-height: 200px;max-width: 100%;overflow: auto;}#sk-container-id-1 input.sk-toggleable__control:checked~label.sk-toggleable__label-arrow:before {content: \"▾\";}#sk-container-id-1 div.sk-estimator input.sk-toggleable__control:checked~label.sk-toggleable__label {background-color: #d4ebff;}#sk-container-id-1 div.sk-label input.sk-toggleable__control:checked~label.sk-toggleable__label {background-color: #d4ebff;}#sk-container-id-1 input.sk-hidden--visually {border: 0;clip: rect(1px 1px 1px 1px);clip: rect(1px, 1px, 1px, 1px);height: 1px;margin: -1px;overflow: hidden;padding: 0;position: absolute;width: 1px;}#sk-container-id-1 div.sk-estimator {font-family: monospace;background-color: #f0f8ff;border: 1px dotted black;border-radius: 0.25em;box-sizing: border-box;margin-bottom: 0.5em;}#sk-container-id-1 div.sk-estimator:hover {background-color: #d4ebff;}#sk-container-id-1 div.sk-parallel-item::after {content: \"\";width: 100%;border-bottom: 1px solid gray;flex-grow: 1;}#sk-container-id-1 div.sk-label:hover label.sk-toggleable__label {background-color: #d4ebff;}#sk-container-id-1 div.sk-serial::before {content: \"\";position: absolute;border-left: 1px solid gray;box-sizing: border-box;top: 0;bottom: 0;left: 50%;z-index: 0;}#sk-container-id-1 div.sk-serial {display: flex;flex-direction: column;align-items: center;background-color: white;padding-right: 0.2em;padding-left: 0.2em;position: relative;}#sk-container-id-1 div.sk-item {position: relative;z-index: 1;}#sk-container-id-1 div.sk-parallel {display: flex;align-items: stretch;justify-content: center;background-color: white;position: relative;}#sk-container-id-1 div.sk-item::before, #sk-container-id-1 div.sk-parallel-item::before {content: \"\";position: absolute;border-left: 1px solid gray;box-sizing: border-box;top: 0;bottom: 0;left: 50%;z-index: -1;}#sk-container-id-1 div.sk-parallel-item {display: flex;flex-direction: column;z-index: 1;position: relative;background-color: white;}#sk-container-id-1 div.sk-parallel-item:first-child::after {align-self: flex-end;width: 50%;}#sk-container-id-1 div.sk-parallel-item:last-child::after {align-self: flex-start;width: 50%;}#sk-container-id-1 div.sk-parallel-item:only-child::after {width: 0;}#sk-container-id-1 div.sk-dashed-wrapped {border: 1px dashed gray;margin: 0 0.4em 0.5em 0.4em;box-sizing: border-box;padding-bottom: 0.4em;background-color: white;}#sk-container-id-1 div.sk-label label {font-family: monospace;font-weight: bold;display: inline-block;line-height: 1.2em;}#sk-container-id-1 div.sk-label-container {text-align: center;}#sk-container-id-1 div.sk-container {/* jupyter's `normalize.less` sets `[hidden] { display: none; }` but bootstrap.min.css set `[hidden] { display: none !important; }` so we also need the `!important` here to be able to override the default hidden behavior on the sphinx rendered scikit-learn.org. See: https://github.com/scikit-learn/scikit-learn/issues/21755 */display: inline-block !important;position: relative;}#sk-container-id-1 div.sk-text-repr-fallback {display: none;}</style><div id=\"sk-container-id-1\" class=\"sk-top-container\"><div class=\"sk-text-repr-fallback\"><pre>LogisticRegression()</pre><b>In a Jupyter environment, please rerun this cell to show the HTML representation or trust the notebook. <br />On GitHub, the HTML representation is unable to render, please try loading this page with nbviewer.org.</b></div><div class=\"sk-container\" hidden><div class=\"sk-item\"><div class=\"sk-estimator sk-toggleable\"><input class=\"sk-toggleable__control sk-hidden--visually\" id=\"sk-estimator-id-1\" type=\"checkbox\" checked><label for=\"sk-estimator-id-1\" class=\"sk-toggleable__label sk-toggleable__label-arrow\">LogisticRegression</label><div class=\"sk-toggleable__content\"><pre>LogisticRegression()</pre></div></div></div></div></div>"
      ],
      "text/plain": [
       "LogisticRegression()"
      ]
     },
     "execution_count": 323,
     "metadata": {},
     "output_type": "execute_result"
    }
   ],
   "source": [
    "lr.fit(x_train,y_train)"
   ]
  },
  {
   "cell_type": "code",
   "execution_count": 324,
   "id": "c282d1dd",
   "metadata": {},
   "outputs": [
    {
     "name": "stdout",
     "output_type": "stream",
     "text": [
      "-----Training score-----\n",
      "Accuracy score:76.72%\n",
      "-----Testing score-----\n",
      "Accuracy score:75.42%\n",
      "classification report \n",
      "               precision    recall  f1-score   support\n",
      "\n",
      "           0       0.76      0.59      0.67        74\n",
      "           1       0.75      0.87      0.81       105\n",
      "\n",
      "    accuracy                           0.75       179\n",
      "   macro avg       0.76      0.73      0.74       179\n",
      "weighted avg       0.75      0.75      0.75       179\n",
      "\n",
      "confusion matrix  [[44 30]\n",
      " [14 91]]\n",
      "F1 Score  0.8053097345132745\n"
     ]
    }
   ],
   "source": [
    "#passing the function\n",
    "metric_score(lr,x_train,x_test,y_train,y_test,train=True) # this is for training score\n",
    "\n",
    "metric_score(lr,x_train,x_test,y_train,y_test,train=False) # this is for testing score"
   ]
  },
  {
   "cell_type": "code",
   "execution_count": 325,
   "id": "af6eaf2e",
   "metadata": {},
   "outputs": [],
   "source": [
    "# using cross validation score to check if model is overfitted\n",
    "\n",
    "#uploading cross validation library\n",
    "from sklearn.model_selection import cross_val_score"
   ]
  },
  {
   "cell_type": "code",
   "execution_count": 327,
   "id": "d5b70367",
   "metadata": {},
   "outputs": [
    {
     "name": "stdout",
     "output_type": "stream",
     "text": [
      "At cv:- 2\n",
      "cross validation score:-  72.90502793296089\n",
      "At cv:- 3\n",
      "cross validation score:-  72.48631670241319\n",
      "At cv:- 4\n",
      "cross validation score:-  74.72067039106145\n",
      "At cv:- 5\n",
      "cross validation score:-  74.02583527583528\n",
      "At cv:- 6\n",
      "cross validation score:-  74.30905695611578\n",
      "At cv:- 7\n",
      "cross validation score:-  75.42492725245438\n",
      "At cv:- 8\n",
      "cross validation score:-  75.28870162297129\n",
      "At cv:- 9\n",
      "cross validation score:-  74.58509142053445\n",
      "At cv:- 10\n",
      "cross validation score:-  75.14084507042253\n",
      "At cv:- 11\n",
      "cross validation score:-  75.69400296673024\n"
     ]
    }
   ],
   "source": [
    "#finding best value for cv in provided range\n",
    "for i in range(2,12):\n",
    "    cv_score=cross_val_score(lr,x_new,y_new,cv=i)\n",
    "    cv=cv_score.mean()\n",
    "    print('At cv:-',i)\n",
    "    print('cross validation score:- ',cv*100)"
   ]
  },
  {
   "cell_type": "code",
   "execution_count": 328,
   "id": "dad3a31a",
   "metadata": {},
   "outputs": [
    {
     "name": "stdout",
     "output_type": "stream",
     "text": [
      "Cross Validation Score for Logistic regression model :-  75.69400296673024\n"
     ]
    }
   ],
   "source": [
    "#cross validation score\n",
    "print('Cross Validation Score for Logistic regression model :- ',((cross_val_score(lr,x_new,y_new,cv=11).mean())*100))"
   ]
  },
  {
   "cell_type": "code",
   "execution_count": 334,
   "id": "7a2b39c3",
   "metadata": {},
   "outputs": [],
   "source": [
    "#plotting ROC Curve\n",
    "\n",
    "#importing ROC curve library\n",
    "\n",
    "from sklearn.metrics import roc_curve,auc"
   ]
  },
  {
   "cell_type": "code",
   "execution_count": 335,
   "id": "9b380195",
   "metadata": {},
   "outputs": [
    {
     "name": "stdout",
     "output_type": "stream",
     "text": [
      "fpr [0.         0.40540541 1.        ]\n",
      "tpr [0.         0.86666667 1.        ]\n",
      "threshold [2 1 0]\n"
     ]
    }
   ],
   "source": [
    "pred=lr.predict(x_test)\n",
    "fpr,tpr,threshold=roc_curve(y_test,pred)\n",
    "print('fpr',fpr)\n",
    "print('tpr',tpr)\n",
    "print('threshold',threshold)"
   ]
  },
  {
   "cell_type": "code",
   "execution_count": 336,
   "id": "1097eafc",
   "metadata": {},
   "outputs": [
    {
     "data": {
      "image/png": "[encoded data removed]",
      "text/plain": [
       "<Figure size 432x288 with 1 Axes>"
      ]
     },
     "metadata": {
      "needs_background": "light"
     },
     "output_type": "display_data"
    }
   ],
   "source": [
    "plt.plot(fpr,tpr,color='darkorange',label='ROC curve')\n",
    "plt.plot([0,1],[0,1],color='green',linestyle='--')\n",
    "plt.xlabel('False positive rate')\n",
    "plt.ylabel('True positive rate')\n",
    "plt.title('Receiver Operating Curve')\n",
    "plt.legend()\n",
    "plt.show()"
   ]
  },
  {
   "cell_type": "markdown",
   "id": "ca5df87a",
   "metadata": {},
   "source": [
    "# K Neighbours Classifier"
   ]
  },
  {
   "cell_type": "code",
   "execution_count": 329,
   "id": "3a9d536d",
   "metadata": {},
   "outputs": [],
   "source": [
    "#importing library\n",
    "\n",
    "from sklearn.neighbors import KNeighborsClassifier"
   ]
  },
  {
   "cell_type": "code",
   "execution_count": 330,
   "id": "03373fc0",
   "metadata": {},
   "outputs": [],
   "source": [
    "knn=KNeighborsClassifier()"
   ]
  },
  {
   "cell_type": "code",
   "execution_count": 331,
   "id": "692d6c28",
   "metadata": {},
   "outputs": [
    {
     "data": {
      "text/html": [
       "<style>#sk-container-id-2 {color: black;background-color: white;}#sk-container-id-2 pre{padding: 0;}#sk-container-id-2 div.sk-toggleable {background-color: white;}#sk-container-id-2 label.sk-toggleable__label {cursor: pointer;display: block;width: 100%;margin-bottom: 0;padding: 0.3em;box-sizing: border-box;text-align: center;}#sk-container-id-2 label.sk-toggleable__label-arrow:before {content: \"▸\";float: left;margin-right: 0.25em;color: #696969;}#sk-container-id-2 label.sk-toggleable__label-arrow:hover:before {color: black;}#sk-container-id-2 div.sk-estimator:hover label.sk-toggleable__label-arrow:before {color: black;}#sk-container-id-2 div.sk-toggleable__content {max-height: 0;max-width: 0;overflow: hidden;text-align: left;background-color: #f0f8ff;}#sk-container-id-2 div.sk-toggleable__content pre {margin: 0.2em;color: black;border-radius: 0.25em;background-color: #f0f8ff;}#sk-container-id-2 input.sk-toggleable__control:checked~div.sk-toggleable__content {max-height: 200px;max-width: 100%;overflow: auto;}#sk-container-id-2 input.sk-toggleable__control:checked~label.sk-toggleable__label-arrow:before {content: \"▾\";}#sk-container-id-2 div.sk-estimator input.sk-toggleable__control:checked~label.sk-toggleable__label {background-color: #d4ebff;}#sk-container-id-2 div.sk-label input.sk-toggleable__control:checked~label.sk-toggleable__label {background-color: #d4ebff;}#sk-container-id-2 input.sk-hidden--visually {border: 0;clip: rect(1px 1px 1px 1px);clip: rect(1px, 1px, 1px, 1px);height: 1px;margin: -1px;overflow: hidden;padding: 0;position: absolute;width: 1px;}#sk-container-id-2 div.sk-estimator {font-family: monospace;background-color: #f0f8ff;border: 1px dotted black;border-radius: 0.25em;box-sizing: border-box;margin-bottom: 0.5em;}#sk-container-id-2 div.sk-estimator:hover {background-color: #d4ebff;}#sk-container-id-2 div.sk-parallel-item::after {content: \"\";width: 100%;border-bottom: 1px solid gray;flex-grow: 1;}#sk-container-id-2 div.sk-label:hover label.sk-toggleable__label {background-color: #d4ebff;}#sk-container-id-2 div.sk-serial::before {content: \"\";position: absolute;border-left: 1px solid gray;box-sizing: border-box;top: 0;bottom: 0;left: 50%;z-index: 0;}#sk-container-id-2 div.sk-serial {display: flex;flex-direction: column;align-items: center;background-color: white;padding-right: 0.2em;padding-left: 0.2em;position: relative;}#sk-container-id-2 div.sk-item {position: relative;z-index: 1;}#sk-container-id-2 div.sk-parallel {display: flex;align-items: stretch;justify-content: center;background-color: white;position: relative;}#sk-container-id-2 div.sk-item::before, #sk-container-id-2 div.sk-parallel-item::before {content: \"\";position: absolute;border-left: 1px solid gray;box-sizing: border-box;top: 0;bottom: 0;left: 50%;z-index: -1;}#sk-container-id-2 div.sk-parallel-item {display: flex;flex-direction: column;z-index: 1;position: relative;background-color: white;}#sk-container-id-2 div.sk-parallel-item:first-child::after {align-self: flex-end;width: 50%;}#sk-container-id-2 div.sk-parallel-item:last-child::after {align-self: flex-start;width: 50%;}#sk-container-id-2 div.sk-parallel-item:only-child::after {width: 0;}#sk-container-id-2 div.sk-dashed-wrapped {border: 1px dashed gray;margin: 0 0.4em 0.5em 0.4em;box-sizing: border-box;padding-bottom: 0.4em;background-color: white;}#sk-container-id-2 div.sk-label label {font-family: monospace;font-weight: bold;display: inline-block;line-height: 1.2em;}#sk-container-id-2 div.sk-label-container {text-align: center;}#sk-container-id-2 div.sk-container {/* jupyter's `normalize.less` sets `[hidden] { display: none; }` but bootstrap.min.css set `[hidden] { display: none !important; }` so we also need the `!important` here to be able to override the default hidden behavior on the sphinx rendered scikit-learn.org. See: https://github.com/scikit-learn/scikit-learn/issues/21755 */display: inline-block !important;position: relative;}#sk-container-id-2 div.sk-text-repr-fallback {display: none;}</style><div id=\"sk-container-id-2\" class=\"sk-top-container\"><div class=\"sk-text-repr-fallback\"><pre>KNeighborsClassifier()</pre><b>In a Jupyter environment, please rerun this cell to show the HTML representation or trust the notebook. <br />On GitHub, the HTML representation is unable to render, please try loading this page with nbviewer.org.</b></div><div class=\"sk-container\" hidden><div class=\"sk-item\"><div class=\"sk-estimator sk-toggleable\"><input class=\"sk-toggleable__control sk-hidden--visually\" id=\"sk-estimator-id-2\" type=\"checkbox\" checked><label for=\"sk-estimator-id-2\" class=\"sk-toggleable__label sk-toggleable__label-arrow\">KNeighborsClassifier</label><div class=\"sk-toggleable__content\"><pre>KNeighborsClassifier()</pre></div></div></div></div></div>"
      ],
      "text/plain": [
       "KNeighborsClassifier()"
      ]
     },
     "execution_count": 331,
     "metadata": {},
     "output_type": "execute_result"
    }
   ],
   "source": [
    "knn.fit(x_train,y_train)"
   ]
  },
  {
   "cell_type": "code",
   "execution_count": 332,
   "id": "f634a0cc",
   "metadata": {
    "scrolled": true
   },
   "outputs": [
    {
     "name": "stdout",
     "output_type": "stream",
     "text": [
      "-----Training score-----\n",
      "Accuracy score:83.05%\n",
      "-----Testing score-----\n",
      "Accuracy score:70.95%\n",
      "classification report \n",
      "               precision    recall  f1-score   support\n",
      "\n",
      "           0       0.65      0.64      0.64        74\n",
      "           1       0.75      0.76      0.75       105\n",
      "\n",
      "    accuracy                           0.71       179\n",
      "   macro avg       0.70      0.70      0.70       179\n",
      "weighted avg       0.71      0.71      0.71       179\n",
      "\n",
      "confusion matrix  [[47 27]\n",
      " [25 80]]\n",
      "F1 Score  0.7547169811320754\n"
     ]
    }
   ],
   "source": [
    "#passing the function\n",
    "metric_score(knn,x_train,x_test,y_train,y_test,train=True) # this is for training score\n",
    "\n",
    "metric_score(knn,x_train,x_test,y_train,y_test,train=False) # this is for testing score"
   ]
  },
  {
   "cell_type": "code",
   "execution_count": 342,
   "id": "aa021650",
   "metadata": {},
   "outputs": [
    {
     "name": "stdout",
     "output_type": "stream",
     "text": [
      "Cross Validation Score for K Neighbours Classifier model :-  74.1682559864378\n"
     ]
    }
   ],
   "source": [
    "#cross validation score\n",
    "print('Cross Validation Score for K Neighbours Classifier model :- ',((cross_val_score(knn,x_new,y_new,cv=11).mean())*100))"
   ]
  },
  {
   "cell_type": "code",
   "execution_count": 337,
   "id": "54ec2152",
   "metadata": {},
   "outputs": [
    {
     "name": "stdout",
     "output_type": "stream",
     "text": [
      "fpr [0.         0.36486486 1.        ]\n",
      "tpr [0.         0.76190476 1.        ]\n",
      "threshold [2 1 0]\n"
     ]
    }
   ],
   "source": [
    "# Plotting ROC Curve\n",
    "\n",
    "pred=knn.predict(x_test)\n",
    "fpr,tpr,threshold=roc_curve(y_test,pred)\n",
    "print('fpr',fpr)\n",
    "print('tpr',tpr)\n",
    "print('threshold',threshold)"
   ]
  },
  {
   "cell_type": "code",
   "execution_count": 338,
   "id": "067cc3f7",
   "metadata": {},
   "outputs": [
    {
     "data": {
      "image/png": "[encoded data removed]",
      "text/plain": [
       "<Figure size 432x288 with 1 Axes>"
      ]
     },
     "metadata": {
      "needs_background": "light"
     },
     "output_type": "display_data"
    }
   ],
   "source": [
    "plt.plot(fpr,tpr,color='darkorange',label='ROC curve')\n",
    "plt.plot([0,1],[0,1],color='green',linestyle='--')\n",
    "plt.xlabel('False positive rate')\n",
    "plt.ylabel('True positive rate')\n",
    "plt.title('Receiver Operating Curve')\n",
    "plt.legend()\n",
    "plt.show()"
   ]
  },
  {
   "cell_type": "markdown",
   "id": "d3325a1a",
   "metadata": {},
   "source": [
    "# Random Forests Classifier"
   ]
  },
  {
   "cell_type": "code",
   "execution_count": 339,
   "id": "a4059b4d",
   "metadata": {},
   "outputs": [],
   "source": [
    "from sklearn.ensemble import RandomForestClassifier\n",
    "rf=RandomForestClassifier()"
   ]
  },
  {
   "cell_type": "code",
   "execution_count": 340,
   "id": "3f1618af",
   "metadata": {},
   "outputs": [
    {
     "data": {
      "text/html": [
       "<style>#sk-container-id-3 {color: black;background-color: white;}#sk-container-id-3 pre{padding: 0;}#sk-container-id-3 div.sk-toggleable {background-color: white;}#sk-container-id-3 label.sk-toggleable__label {cursor: pointer;display: block;width: 100%;margin-bottom: 0;padding: 0.3em;box-sizing: border-box;text-align: center;}#sk-container-id-3 label.sk-toggleable__label-arrow:before {content: \"▸\";float: left;margin-right: 0.25em;color: #696969;}#sk-container-id-3 label.sk-toggleable__label-arrow:hover:before {color: black;}#sk-container-id-3 div.sk-estimator:hover label.sk-toggleable__label-arrow:before {color: black;}#sk-container-id-3 div.sk-toggleable__content {max-height: 0;max-width: 0;overflow: hidden;text-align: left;background-color: #f0f8ff;}#sk-container-id-3 div.sk-toggleable__content pre {margin: 0.2em;color: black;border-radius: 0.25em;background-color: #f0f8ff;}#sk-container-id-3 input.sk-toggleable__control:checked~div.sk-toggleable__content {max-height: 200px;max-width: 100%;overflow: auto;}#sk-container-id-3 input.sk-toggleable__control:checked~label.sk-toggleable__label-arrow:before {content: \"▾\";}#sk-container-id-3 div.sk-estimator input.sk-toggleable__control:checked~label.sk-toggleable__label {background-color: #d4ebff;}#sk-container-id-3 div.sk-label input.sk-toggleable__control:checked~label.sk-toggleable__label {background-color: #d4ebff;}#sk-container-id-3 input.sk-hidden--visually {border: 0;clip: rect(1px 1px 1px 1px);clip: rect(1px, 1px, 1px, 1px);height: 1px;margin: -1px;overflow: hidden;padding: 0;position: absolute;width: 1px;}#sk-container-id-3 div.sk-estimator {font-family: monospace;background-color: #f0f8ff;border: 1px dotted black;border-radius: 0.25em;box-sizing: border-box;margin-bottom: 0.5em;}#sk-container-id-3 div.sk-estimator:hover {background-color: #d4ebff;}#sk-container-id-3 div.sk-parallel-item::after {content: \"\";width: 100%;border-bottom: 1px solid gray;flex-grow: 1;}#sk-container-id-3 div.sk-label:hover label.sk-toggleable__label {background-color: #d4ebff;}#sk-container-id-3 div.sk-serial::before {content: \"\";position: absolute;border-left: 1px solid gray;box-sizing: border-box;top: 0;bottom: 0;left: 50%;z-index: 0;}#sk-container-id-3 div.sk-serial {display: flex;flex-direction: column;align-items: center;background-color: white;padding-right: 0.2em;padding-left: 0.2em;position: relative;}#sk-container-id-3 div.sk-item {position: relative;z-index: 1;}#sk-container-id-3 div.sk-parallel {display: flex;align-items: stretch;justify-content: center;background-color: white;position: relative;}#sk-container-id-3 div.sk-item::before, #sk-container-id-3 div.sk-parallel-item::before {content: \"\";position: absolute;border-left: 1px solid gray;box-sizing: border-box;top: 0;bottom: 0;left: 50%;z-index: -1;}#sk-container-id-3 div.sk-parallel-item {display: flex;flex-direction: column;z-index: 1;position: relative;background-color: white;}#sk-container-id-3 div.sk-parallel-item:first-child::after {align-self: flex-end;width: 50%;}#sk-container-id-3 div.sk-parallel-item:last-child::after {align-self: flex-start;width: 50%;}#sk-container-id-3 div.sk-parallel-item:only-child::after {width: 0;}#sk-container-id-3 div.sk-dashed-wrapped {border: 1px dashed gray;margin: 0 0.4em 0.5em 0.4em;box-sizing: border-box;padding-bottom: 0.4em;background-color: white;}#sk-container-id-3 div.sk-label label {font-family: monospace;font-weight: bold;display: inline-block;line-height: 1.2em;}#sk-container-id-3 div.sk-label-container {text-align: center;}#sk-container-id-3 div.sk-container {/* jupyter's `normalize.less` sets `[hidden] { display: none; }` but bootstrap.min.css set `[hidden] { display: none !important; }` so we also need the `!important` here to be able to override the default hidden behavior on the sphinx rendered scikit-learn.org. See: https://github.com/scikit-learn/scikit-learn/issues/21755 */display: inline-block !important;position: relative;}#sk-container-id-3 div.sk-text-repr-fallback {display: none;}</style><div id=\"sk-container-id-3\" class=\"sk-top-container\"><div class=\"sk-text-repr-fallback\"><pre>RandomForestClassifier()</pre><b>In a Jupyter environment, please rerun this cell to show the HTML representation or trust the notebook. <br />On GitHub, the HTML representation is unable to render, please try loading this page with nbviewer.org.</b></div><div class=\"sk-container\" hidden><div class=\"sk-item\"><div class=\"sk-estimator sk-toggleable\"><input class=\"sk-toggleable__control sk-hidden--visually\" id=\"sk-estimator-id-3\" type=\"checkbox\" checked><label for=\"sk-estimator-id-3\" class=\"sk-toggleable__label sk-toggleable__label-arrow\">RandomForestClassifier</label><div class=\"sk-toggleable__content\"><pre>RandomForestClassifier()</pre></div></div></div></div></div>"
      ],
      "text/plain": [
       "RandomForestClassifier()"
      ]
     },
     "execution_count": 340,
     "metadata": {},
     "output_type": "execute_result"
    }
   ],
   "source": [
    "rf.fit(x_train,y_train)"
   ]
  },
  {
   "cell_type": "code",
   "execution_count": 341,
   "id": "1181bc5b",
   "metadata": {},
   "outputs": [
    {
     "name": "stdout",
     "output_type": "stream",
     "text": [
      "-----Training score-----\n",
      "Accuracy score:100.00%\n",
      "-----Testing score-----\n",
      "Accuracy score:83.24%\n",
      "classification report \n",
      "               precision    recall  f1-score   support\n",
      "\n",
      "           0       0.81      0.77      0.79        74\n",
      "           1       0.84      0.88      0.86       105\n",
      "\n",
      "    accuracy                           0.83       179\n",
      "   macro avg       0.83      0.82      0.83       179\n",
      "weighted avg       0.83      0.83      0.83       179\n",
      "\n",
      "confusion matrix  [[57 17]\n",
      " [13 92]]\n",
      "F1 Score  0.8598130841121495\n"
     ]
    }
   ],
   "source": [
    "#passing the function\n",
    "metric_score(rf,x_train,x_test,y_train,y_test,train=True) # this is for training score\n",
    "\n",
    "metric_score(rf,x_train,x_test,y_train,y_test,train=False) # this is for testing score"
   ]
  },
  {
   "cell_type": "code",
   "execution_count": 349,
   "id": "b61e1c16",
   "metadata": {},
   "outputs": [
    {
     "name": "stdout",
     "output_type": "stream",
     "text": [
      "Cross Validation Score for Random Forests Classifier model :-  81.4261496079678\n"
     ]
    }
   ],
   "source": [
    "#cross validation score\n",
    "print('Cross Validation Score for Random Forests Classifier model :- ',((cross_val_score(rf,x_new,y_new,cv=11).mean())*100))"
   ]
  },
  {
   "cell_type": "code",
   "execution_count": 344,
   "id": "0fc46787",
   "metadata": {},
   "outputs": [
    {
     "name": "stdout",
     "output_type": "stream",
     "text": [
      "fpr [0.         0.22972973 1.        ]\n",
      "tpr [0.         0.87619048 1.        ]\n",
      "threshold [2 1 0]\n"
     ]
    }
   ],
   "source": [
    "# Plotting ROC Curve\n",
    "\n",
    "pred=rf.predict(x_test)\n",
    "fpr,tpr,threshold=roc_curve(y_test,pred)\n",
    "print('fpr',fpr)\n",
    "print('tpr',tpr)\n",
    "print('threshold',threshold)"
   ]
  },
  {
   "cell_type": "code",
   "execution_count": 345,
   "id": "6e06b079",
   "metadata": {},
   "outputs": [
    {
     "data": {
      "image/png": "[encoded data removed]",
      "text/plain": [
       "<Figure size 432x288 with 1 Axes>"
      ]
     },
     "metadata": {
      "needs_background": "light"
     },
     "output_type": "display_data"
    }
   ],
   "source": [
    "plt.plot(fpr,tpr,color='darkorange',label='ROC curve')\n",
    "plt.plot([0,1],[0,1],color='green',linestyle='--')\n",
    "plt.xlabel('False positive rate')\n",
    "plt.ylabel('True positive rate')\n",
    "plt.title('Receiver Operating Curve')\n",
    "plt.legend()\n",
    "plt.show()"
   ]
  },
  {
   "cell_type": "markdown",
   "id": "1f4e9803",
   "metadata": {},
   "source": [
    "# support vector classifier"
   ]
  },
  {
   "cell_type": "code",
   "execution_count": 346,
   "id": "189a5396",
   "metadata": {},
   "outputs": [],
   "source": [
    "#importing library\n",
    "from sklearn.svm import SVC\n",
    "svc=SVC()"
   ]
  },
  {
   "cell_type": "code",
   "execution_count": 347,
   "id": "5e9bbd99",
   "metadata": {},
   "outputs": [
    {
     "data": {
      "text/html": [
       "<style>#sk-container-id-4 {color: black;background-color: white;}#sk-container-id-4 pre{padding: 0;}#sk-container-id-4 div.sk-toggleable {background-color: white;}#sk-container-id-4 label.sk-toggleable__label {cursor: pointer;display: block;width: 100%;margin-bottom: 0;padding: 0.3em;box-sizing: border-box;text-align: center;}#sk-container-id-4 label.sk-toggleable__label-arrow:before {content: \"▸\";float: left;margin-right: 0.25em;color: #696969;}#sk-container-id-4 label.sk-toggleable__label-arrow:hover:before {color: black;}#sk-container-id-4 div.sk-estimator:hover label.sk-toggleable__label-arrow:before {color: black;}#sk-container-id-4 div.sk-toggleable__content {max-height: 0;max-width: 0;overflow: hidden;text-align: left;background-color: #f0f8ff;}#sk-container-id-4 div.sk-toggleable__content pre {margin: 0.2em;color: black;border-radius: 0.25em;background-color: #f0f8ff;}#sk-container-id-4 input.sk-toggleable__control:checked~div.sk-toggleable__content {max-height: 200px;max-width: 100%;overflow: auto;}#sk-container-id-4 input.sk-toggleable__control:checked~label.sk-toggleable__label-arrow:before {content: \"▾\";}#sk-container-id-4 div.sk-estimator input.sk-toggleable__control:checked~label.sk-toggleable__label {background-color: #d4ebff;}#sk-container-id-4 div.sk-label input.sk-toggleable__control:checked~label.sk-toggleable__label {background-color: #d4ebff;}#sk-container-id-4 input.sk-hidden--visually {border: 0;clip: rect(1px 1px 1px 1px);clip: rect(1px, 1px, 1px, 1px);height: 1px;margin: -1px;overflow: hidden;padding: 0;position: absolute;width: 1px;}#sk-container-id-4 div.sk-estimator {font-family: monospace;background-color: #f0f8ff;border: 1px dotted black;border-radius: 0.25em;box-sizing: border-box;margin-bottom: 0.5em;}#sk-container-id-4 div.sk-estimator:hover {background-color: #d4ebff;}#sk-container-id-4 div.sk-parallel-item::after {content: \"\";width: 100%;border-bottom: 1px solid gray;flex-grow: 1;}#sk-container-id-4 div.sk-label:hover label.sk-toggleable__label {background-color: #d4ebff;}#sk-container-id-4 div.sk-serial::before {content: \"\";position: absolute;border-left: 1px solid gray;box-sizing: border-box;top: 0;bottom: 0;left: 50%;z-index: 0;}#sk-container-id-4 div.sk-serial {display: flex;flex-direction: column;align-items: center;background-color: white;padding-right: 0.2em;padding-left: 0.2em;position: relative;}#sk-container-id-4 div.sk-item {position: relative;z-index: 1;}#sk-container-id-4 div.sk-parallel {display: flex;align-items: stretch;justify-content: center;background-color: white;position: relative;}#sk-container-id-4 div.sk-item::before, #sk-container-id-4 div.sk-parallel-item::before {content: \"\";position: absolute;border-left: 1px solid gray;box-sizing: border-box;top: 0;bottom: 0;left: 50%;z-index: -1;}#sk-container-id-4 div.sk-parallel-item {display: flex;flex-direction: column;z-index: 1;position: relative;background-color: white;}#sk-container-id-4 div.sk-parallel-item:first-child::after {align-self: flex-end;width: 50%;}#sk-container-id-4 div.sk-parallel-item:last-child::after {align-self: flex-start;width: 50%;}#sk-container-id-4 div.sk-parallel-item:only-child::after {width: 0;}#sk-container-id-4 div.sk-dashed-wrapped {border: 1px dashed gray;margin: 0 0.4em 0.5em 0.4em;box-sizing: border-box;padding-bottom: 0.4em;background-color: white;}#sk-container-id-4 div.sk-label label {font-family: monospace;font-weight: bold;display: inline-block;line-height: 1.2em;}#sk-container-id-4 div.sk-label-container {text-align: center;}#sk-container-id-4 div.sk-container {/* jupyter's `normalize.less` sets `[hidden] { display: none; }` but bootstrap.min.css set `[hidden] { display: none !important; }` so we also need the `!important` here to be able to override the default hidden behavior on the sphinx rendered scikit-learn.org. See: https://github.com/scikit-learn/scikit-learn/issues/21755 */display: inline-block !important;position: relative;}#sk-container-id-4 div.sk-text-repr-fallback {display: none;}</style><div id=\"sk-container-id-4\" class=\"sk-top-container\"><div class=\"sk-text-repr-fallback\"><pre>SVC()</pre><b>In a Jupyter environment, please rerun this cell to show the HTML representation or trust the notebook. <br />On GitHub, the HTML representation is unable to render, please try loading this page with nbviewer.org.</b></div><div class=\"sk-container\" hidden><div class=\"sk-item\"><div class=\"sk-estimator sk-toggleable\"><input class=\"sk-toggleable__control sk-hidden--visually\" id=\"sk-estimator-id-4\" type=\"checkbox\" checked><label for=\"sk-estimator-id-4\" class=\"sk-toggleable__label sk-toggleable__label-arrow\">SVC</label><div class=\"sk-toggleable__content\"><pre>SVC()</pre></div></div></div></div></div>"
      ],
      "text/plain": [
       "SVC()"
      ]
     },
     "execution_count": 347,
     "metadata": {},
     "output_type": "execute_result"
    }
   ],
   "source": [
    "#fitting model to dataset\n",
    "svc.fit(x_train,y_train)"
   ]
  },
  {
   "cell_type": "code",
   "execution_count": 348,
   "id": "fd9d58e8",
   "metadata": {},
   "outputs": [
    {
     "name": "stdout",
     "output_type": "stream",
     "text": [
      "-----Training score-----\n",
      "Accuracy score:80.45%\n",
      "-----Testing score-----\n",
      "Accuracy score:77.65%\n",
      "classification report \n",
      "               precision    recall  f1-score   support\n",
      "\n",
      "           0       0.80      0.61      0.69        74\n",
      "           1       0.76      0.90      0.82       105\n",
      "\n",
      "    accuracy                           0.78       179\n",
      "   macro avg       0.78      0.75      0.76       179\n",
      "weighted avg       0.78      0.78      0.77       179\n",
      "\n",
      "confusion matrix  [[45 29]\n",
      " [11 94]]\n",
      "F1 Score  0.824561403508772\n"
     ]
    }
   ],
   "source": [
    "#passing the function\n",
    "metric_score(svc,x_train,x_test,y_train,y_test,train=True) # this is for training score\n",
    "\n",
    "metric_score(svc,x_train,x_test,y_train,y_test,train=False) # this is for testing score"
   ]
  },
  {
   "cell_type": "code",
   "execution_count": 350,
   "id": "38ecc8d7",
   "metadata": {},
   "outputs": [
    {
     "name": "stdout",
     "output_type": "stream",
     "text": [
      "Cross Validation Score for support vector classifier model :-  76.2534435261708\n"
     ]
    }
   ],
   "source": [
    "#cross validation score\n",
    "print('Cross Validation Score for support vector classifier model :- ',((cross_val_score(svc,x_new,y_new,cv=11).mean())*100))"
   ]
  },
  {
   "cell_type": "code",
   "execution_count": 351,
   "id": "6b65dcde",
   "metadata": {},
   "outputs": [
    {
     "name": "stdout",
     "output_type": "stream",
     "text": [
      "fpr [0.         0.39189189 1.        ]\n",
      "tpr [0.        0.8952381 1.       ]\n",
      "threshold [2 1 0]\n"
     ]
    }
   ],
   "source": [
    "# Plotting ROC Curve\n",
    "\n",
    "pred=svc.predict(x_test)\n",
    "fpr,tpr,threshold=roc_curve(y_test,pred)\n",
    "print('fpr',fpr)\n",
    "print('tpr',tpr)\n",
    "print('threshold',threshold)"
   ]
  },
  {
   "cell_type": "code",
   "execution_count": 352,
   "id": "2be34366",
   "metadata": {},
   "outputs": [
    {
     "data": {
      "image/png": "[encoded data removed]",
      "text/plain": [
       "<Figure size 432x288 with 1 Axes>"
      ]
     },
     "metadata": {
      "needs_background": "light"
     },
     "output_type": "display_data"
    }
   ],
   "source": [
    "plt.plot(fpr,tpr,color='darkorange',label='ROC curve')\n",
    "plt.plot([0,1],[0,1],color='green',linestyle='--')\n",
    "plt.xlabel('False positive rate')\n",
    "plt.ylabel('True positive rate')\n",
    "plt.title('Receiver Operating Curve')\n",
    "plt.legend()\n",
    "plt.show()"
   ]
  },
  {
   "cell_type": "code",
   "execution_count": 353,
   "id": "2242b97e",
   "metadata": {},
   "outputs": [],
   "source": [
    "# AdaBoost Classifier"
   ]
  },
  {
   "cell_type": "code",
   "execution_count": 354,
   "id": "f5da6582",
   "metadata": {},
   "outputs": [],
   "source": [
    "from sklearn.ensemble import AdaBoostClassifier"
   ]
  },
  {
   "cell_type": "code",
   "execution_count": 355,
   "id": "cd6ecb74",
   "metadata": {},
   "outputs": [],
   "source": [
    "ab=AdaBoostClassifier()"
   ]
  },
  {
   "cell_type": "code",
   "execution_count": 356,
   "id": "0c7d819f",
   "metadata": {},
   "outputs": [
    {
     "data": {
      "text/html": [
       "<style>#sk-container-id-5 {color: black;background-color: white;}#sk-container-id-5 pre{padding: 0;}#sk-container-id-5 div.sk-toggleable {background-color: white;}#sk-container-id-5 label.sk-toggleable__label {cursor: pointer;display: block;width: 100%;margin-bottom: 0;padding: 0.3em;box-sizing: border-box;text-align: center;}#sk-container-id-5 label.sk-toggleable__label-arrow:before {content: \"▸\";float: left;margin-right: 0.25em;color: #696969;}#sk-container-id-5 label.sk-toggleable__label-arrow:hover:before {color: black;}#sk-container-id-5 div.sk-estimator:hover label.sk-toggleable__label-arrow:before {color: black;}#sk-container-id-5 div.sk-toggleable__content {max-height: 0;max-width: 0;overflow: hidden;text-align: left;background-color: #f0f8ff;}#sk-container-id-5 div.sk-toggleable__content pre {margin: 0.2em;color: black;border-radius: 0.25em;background-color: #f0f8ff;}#sk-container-id-5 input.sk-toggleable__control:checked~div.sk-toggleable__content {max-height: 200px;max-width: 100%;overflow: auto;}#sk-container-id-5 input.sk-toggleable__control:checked~label.sk-toggleable__label-arrow:before {content: \"▾\";}#sk-container-id-5 div.sk-estimator input.sk-toggleable__control:checked~label.sk-toggleable__label {background-color: #d4ebff;}#sk-container-id-5 div.sk-label input.sk-toggleable__control:checked~label.sk-toggleable__label {background-color: #d4ebff;}#sk-container-id-5 input.sk-hidden--visually {border: 0;clip: rect(1px 1px 1px 1px);clip: rect(1px, 1px, 1px, 1px);height: 1px;margin: -1px;overflow: hidden;padding: 0;position: absolute;width: 1px;}#sk-container-id-5 div.sk-estimator {font-family: monospace;background-color: #f0f8ff;border: 1px dotted black;border-radius: 0.25em;box-sizing: border-box;margin-bottom: 0.5em;}#sk-container-id-5 div.sk-estimator:hover {background-color: #d4ebff;}#sk-container-id-5 div.sk-parallel-item::after {content: \"\";width: 100%;border-bottom: 1px solid gray;flex-grow: 1;}#sk-container-id-5 div.sk-label:hover label.sk-toggleable__label {background-color: #d4ebff;}#sk-container-id-5 div.sk-serial::before {content: \"\";position: absolute;border-left: 1px solid gray;box-sizing: border-box;top: 0;bottom: 0;left: 50%;z-index: 0;}#sk-container-id-5 div.sk-serial {display: flex;flex-direction: column;align-items: center;background-color: white;padding-right: 0.2em;padding-left: 0.2em;position: relative;}#sk-container-id-5 div.sk-item {position: relative;z-index: 1;}#sk-container-id-5 div.sk-parallel {display: flex;align-items: stretch;justify-content: center;background-color: white;position: relative;}#sk-container-id-5 div.sk-item::before, #sk-container-id-5 div.sk-parallel-item::before {content: \"\";position: absolute;border-left: 1px solid gray;box-sizing: border-box;top: 0;bottom: 0;left: 50%;z-index: -1;}#sk-container-id-5 div.sk-parallel-item {display: flex;flex-direction: column;z-index: 1;position: relative;background-color: white;}#sk-container-id-5 div.sk-parallel-item:first-child::after {align-self: flex-end;width: 50%;}#sk-container-id-5 div.sk-parallel-item:last-child::after {align-self: flex-start;width: 50%;}#sk-container-id-5 div.sk-parallel-item:only-child::after {width: 0;}#sk-container-id-5 div.sk-dashed-wrapped {border: 1px dashed gray;margin: 0 0.4em 0.5em 0.4em;box-sizing: border-box;padding-bottom: 0.4em;background-color: white;}#sk-container-id-5 div.sk-label label {font-family: monospace;font-weight: bold;display: inline-block;line-height: 1.2em;}#sk-container-id-5 div.sk-label-container {text-align: center;}#sk-container-id-5 div.sk-container {/* jupyter's `normalize.less` sets `[hidden] { display: none; }` but bootstrap.min.css set `[hidden] { display: none !important; }` so we also need the `!important` here to be able to override the default hidden behavior on the sphinx rendered scikit-learn.org. See: https://github.com/scikit-learn/scikit-learn/issues/21755 */display: inline-block !important;position: relative;}#sk-container-id-5 div.sk-text-repr-fallback {display: none;}</style><div id=\"sk-container-id-5\" class=\"sk-top-container\"><div class=\"sk-text-repr-fallback\"><pre>AdaBoostClassifier()</pre><b>In a Jupyter environment, please rerun this cell to show the HTML representation or trust the notebook. <br />On GitHub, the HTML representation is unable to render, please try loading this page with nbviewer.org.</b></div><div class=\"sk-container\" hidden><div class=\"sk-item\"><div class=\"sk-estimator sk-toggleable\"><input class=\"sk-toggleable__control sk-hidden--visually\" id=\"sk-estimator-id-5\" type=\"checkbox\" checked><label for=\"sk-estimator-id-5\" class=\"sk-toggleable__label sk-toggleable__label-arrow\">AdaBoostClassifier</label><div class=\"sk-toggleable__content\"><pre>AdaBoostClassifier()</pre></div></div></div></div></div>"
      ],
      "text/plain": [
       "AdaBoostClassifier()"
      ]
     },
     "execution_count": 356,
     "metadata": {},
     "output_type": "execute_result"
    }
   ],
   "source": [
    "ab.fit(x_train,y_train)"
   ]
  },
  {
   "cell_type": "code",
   "execution_count": 357,
   "id": "be46c261",
   "metadata": {},
   "outputs": [
    {
     "name": "stdout",
     "output_type": "stream",
     "text": [
      "-----Training score-----\n",
      "Accuracy score:81.94%\n",
      "-----Testing score-----\n",
      "Accuracy score:73.74%\n",
      "classification report \n",
      "               precision    recall  f1-score   support\n",
      "\n",
      "           0       0.72      0.59      0.65        74\n",
      "           1       0.75      0.84      0.79       105\n",
      "\n",
      "    accuracy                           0.74       179\n",
      "   macro avg       0.73      0.72      0.72       179\n",
      "weighted avg       0.74      0.74      0.73       179\n",
      "\n",
      "confusion matrix  [[44 30]\n",
      " [17 88]]\n",
      "F1 Score  0.789237668161435\n"
     ]
    }
   ],
   "source": [
    "#passing the function\n",
    "metric_score(ab,x_train,x_test,y_train,y_test,train=True) #for training data\n",
    "metric_score(ab,x_train,x_test,y_train,y_test,train=False) # for testing data"
   ]
  },
  {
   "cell_type": "code",
   "execution_count": 358,
   "id": "e2322641",
   "metadata": {},
   "outputs": [
    {
     "name": "stdout",
     "output_type": "stream",
     "text": [
      "Cross Validation Score for Adaboost Classifier model :-  74.5772409408773\n"
     ]
    }
   ],
   "source": [
    "#cross validation score\n",
    "print('Cross Validation Score for Adaboost Classifier model :- ',((cross_val_score(ab,x_new,y_new,cv=11).mean())*100))"
   ]
  },
  {
   "cell_type": "code",
   "execution_count": 359,
   "id": "1c06a2b3",
   "metadata": {},
   "outputs": [
    {
     "name": "stdout",
     "output_type": "stream",
     "text": [
      "fpr [0.         0.40540541 1.        ]\n",
      "tpr [0.         0.83809524 1.        ]\n",
      "threshold [2 1 0]\n"
     ]
    }
   ],
   "source": [
    "# Plotting ROC Curve\n",
    "\n",
    "pred=ab.predict(x_test)\n",
    "fpr,tpr,threshold=roc_curve(y_test,pred)\n",
    "print('fpr',fpr)\n",
    "print('tpr',tpr)\n",
    "print('threshold',threshold)"
   ]
  },
  {
   "cell_type": "code",
   "execution_count": 360,
   "id": "bc25c00a",
   "metadata": {},
   "outputs": [
    {
     "data": {
      "image/png": "[encoded data removed]",
      "text/plain": [
       "<Figure size 432x288 with 1 Axes>"
      ]
     },
     "metadata": {
      "needs_background": "light"
     },
     "output_type": "display_data"
    }
   ],
   "source": [
    "plt.plot(fpr,tpr,color='darkorange',label='ROC curve')\n",
    "plt.plot([0,1],[0,1],color='green',linestyle='--')\n",
    "plt.xlabel('False positive rate')\n",
    "plt.ylabel('True positive rate')\n",
    "plt.title('Receiver Operating Curve')\n",
    "plt.legend()\n",
    "plt.show()"
   ]
  },
  {
   "cell_type": "markdown",
   "id": "10f7f199",
   "metadata": {},
   "source": [
    "# Dataframe showing model_wise training & testing accuracy scores with cross validation scores"
   ]
  },
  {
   "cell_type": "code",
   "execution_count": 362,
   "id": "2ad0f99f",
   "metadata": {},
   "outputs": [
    {
     "data": {
      "text/html": [
       "<div>\n",
       "<style scoped>\n",
       "    .dataframe tbody tr th:only-of-type {\n",
       "        vertical-align: middle;\n",
       "    }\n",
       "\n",
       "    .dataframe tbody tr th {\n",
       "        vertical-align: top;\n",
       "    }\n",
       "\n",
       "    .dataframe thead th {\n",
       "        text-align: right;\n",
       "    }\n",
       "</style>\n",
       "<table border=\"1\" class=\"dataframe\">\n",
       "  <thead>\n",
       "    <tr style=\"text-align: right;\">\n",
       "      <th></th>\n",
       "      <th>Model</th>\n",
       "      <th>Training scores</th>\n",
       "      <th>Testing scores</th>\n",
       "      <th>Cross validation score</th>\n",
       "      <th>F1 Scores</th>\n",
       "    </tr>\n",
       "  </thead>\n",
       "  <tbody>\n",
       "    <tr>\n",
       "      <th>0</th>\n",
       "      <td>Logistic Regression</td>\n",
       "      <td>76.72</td>\n",
       "      <td>75.42</td>\n",
       "      <td>75.69</td>\n",
       "      <td>80.53</td>\n",
       "    </tr>\n",
       "    <tr>\n",
       "      <th>1</th>\n",
       "      <td>KNeigbours</td>\n",
       "      <td>83.05</td>\n",
       "      <td>70.95</td>\n",
       "      <td>75.47</td>\n",
       "      <td>74.16</td>\n",
       "    </tr>\n",
       "    <tr>\n",
       "      <th>2</th>\n",
       "      <td>Random Forests</td>\n",
       "      <td>100.00</td>\n",
       "      <td>83.24</td>\n",
       "      <td>81.42</td>\n",
       "      <td>85.98</td>\n",
       "    </tr>\n",
       "    <tr>\n",
       "      <th>3</th>\n",
       "      <td>SVC</td>\n",
       "      <td>80.45</td>\n",
       "      <td>77.65</td>\n",
       "      <td>76.25</td>\n",
       "      <td>82.45</td>\n",
       "    </tr>\n",
       "    <tr>\n",
       "      <th>4</th>\n",
       "      <td>Adaboost</td>\n",
       "      <td>81.94</td>\n",
       "      <td>73.74</td>\n",
       "      <td>74.57</td>\n",
       "      <td>78.92</td>\n",
       "    </tr>\n",
       "  </tbody>\n",
       "</table>\n",
       "</div>"
      ],
      "text/plain": [
       "                 Model  Training scores  Testing scores  \\\n",
       "0  Logistic Regression            76.72           75.42   \n",
       "1           KNeigbours            83.05           70.95   \n",
       "2       Random Forests           100.00           83.24   \n",
       "3                  SVC            80.45           77.65   \n",
       "4             Adaboost            81.94           73.74   \n",
       "\n",
       "   Cross validation score  F1 Scores  \n",
       "0                   75.69      80.53  \n",
       "1                   75.47      74.16  \n",
       "2                   81.42      85.98  \n",
       "3                   76.25      82.45  \n",
       "4                   74.57      78.92  "
      ]
     },
     "execution_count": 362,
     "metadata": {},
     "output_type": "execute_result"
    }
   ],
   "source": [
    "column=pd.DataFrame({'Model':['Logistic Regression','KNeigbours','Random Forests','SVC','Adaboost'],\n",
    "                    'Training scores':[76.72,83.05,100,80.45,81.94],\n",
    "                    'Testing scores':[75.42,70.95,83.24,77.65,73.74],\n",
    "                    'Cross validation score':[75.69,75.47,81.42,76.25,74.57],\n",
    "                    'F1 Scores':[80.53,74.16,85.98,82.45,78.92]})\n",
    "column"
   ]
  },
  {
   "cell_type": "markdown",
   "id": "35c03eae",
   "metadata": {},
   "source": [
    " Acoording to me Logistic regression is the best model as it has same training,testing and cross validation scores, though random forest has seen most of the data with better accuracy.\n",
    " # Performing hyperparameter tuning on Logistic Regression model."
   ]
  },
  {
   "cell_type": "code",
   "execution_count": 364,
   "id": "986ee0f0",
   "metadata": {},
   "outputs": [],
   "source": [
    "#importing library for for grid search CV\n",
    "\n",
    "from sklearn.model_selection import GridSearchCV"
   ]
  },
  {
   "cell_type": "code",
   "execution_count": 374,
   "id": "495545d0",
   "metadata": {},
   "outputs": [],
   "source": [
    "grid_param=[{'penalty':['l1', 'l2', 'elasticnet', 'none'],\n",
    "           'max_iter':[100,150,200,250,300],\n",
    "           'fit_intercept':[True,False],\n",
    "            'intercept_scaling':[1.5,2.0,2.5,3.0,3.5,4.0],\n",
    "            'solver':['newton-cg', 'lbfgs', 'liblinear', 'sag', 'saga']}]"
   ]
  },
  {
   "cell_type": "code",
   "execution_count": 375,
   "id": "4c0c0f34",
   "metadata": {},
   "outputs": [],
   "source": [
    "#saving model in variable\n",
    "grid=GridSearchCV(LogisticRegression(),param_grid=grid_param)"
   ]
  },
  {
   "cell_type": "code",
   "execution_count": 376,
   "id": "b70dbeaa",
   "metadata": {},
   "outputs": [
    {
     "data": {
      "text/html": [
       "<style>#sk-container-id-8 {color: black;background-color: white;}#sk-container-id-8 pre{padding: 0;}#sk-container-id-8 div.sk-toggleable {background-color: white;}#sk-container-id-8 label.sk-toggleable__label {cursor: pointer;display: block;width: 100%;margin-bottom: 0;padding: 0.3em;box-sizing: border-box;text-align: center;}#sk-container-id-8 label.sk-toggleable__label-arrow:before {content: \"▸\";float: left;margin-right: 0.25em;color: #696969;}#sk-container-id-8 label.sk-toggleable__label-arrow:hover:before {color: black;}#sk-container-id-8 div.sk-estimator:hover label.sk-toggleable__label-arrow:before {color: black;}#sk-container-id-8 div.sk-toggleable__content {max-height: 0;max-width: 0;overflow: hidden;text-align: left;background-color: #f0f8ff;}#sk-container-id-8 div.sk-toggleable__content pre {margin: 0.2em;color: black;border-radius: 0.25em;background-color: #f0f8ff;}#sk-container-id-8 input.sk-toggleable__control:checked~div.sk-toggleable__content {max-height: 200px;max-width: 100%;overflow: auto;}#sk-container-id-8 input.sk-toggleable__control:checked~label.sk-toggleable__label-arrow:before {content: \"▾\";}#sk-container-id-8 div.sk-estimator input.sk-toggleable__control:checked~label.sk-toggleable__label {background-color: #d4ebff;}#sk-container-id-8 div.sk-label input.sk-toggleable__control:checked~label.sk-toggleable__label {background-color: #d4ebff;}#sk-container-id-8 input.sk-hidden--visually {border: 0;clip: rect(1px 1px 1px 1px);clip: rect(1px, 1px, 1px, 1px);height: 1px;margin: -1px;overflow: hidden;padding: 0;position: absolute;width: 1px;}#sk-container-id-8 div.sk-estimator {font-family: monospace;background-color: #f0f8ff;border: 1px dotted black;border-radius: 0.25em;box-sizing: border-box;margin-bottom: 0.5em;}#sk-container-id-8 div.sk-estimator:hover {background-color: #d4ebff;}#sk-container-id-8 div.sk-parallel-item::after {content: \"\";width: 100%;border-bottom: 1px solid gray;flex-grow: 1;}#sk-container-id-8 div.sk-label:hover label.sk-toggleable__label {background-color: #d4ebff;}#sk-container-id-8 div.sk-serial::before {content: \"\";position: absolute;border-left: 1px solid gray;box-sizing: border-box;top: 0;bottom: 0;left: 50%;z-index: 0;}#sk-container-id-8 div.sk-serial {display: flex;flex-direction: column;align-items: center;background-color: white;padding-right: 0.2em;padding-left: 0.2em;position: relative;}#sk-container-id-8 div.sk-item {position: relative;z-index: 1;}#sk-container-id-8 div.sk-parallel {display: flex;align-items: stretch;justify-content: center;background-color: white;position: relative;}#sk-container-id-8 div.sk-item::before, #sk-container-id-8 div.sk-parallel-item::before {content: \"\";position: absolute;border-left: 1px solid gray;box-sizing: border-box;top: 0;bottom: 0;left: 50%;z-index: -1;}#sk-container-id-8 div.sk-parallel-item {display: flex;flex-direction: column;z-index: 1;position: relative;background-color: white;}#sk-container-id-8 div.sk-parallel-item:first-child::after {align-self: flex-end;width: 50%;}#sk-container-id-8 div.sk-parallel-item:last-child::after {align-self: flex-start;width: 50%;}#sk-container-id-8 div.sk-parallel-item:only-child::after {width: 0;}#sk-container-id-8 div.sk-dashed-wrapped {border: 1px dashed gray;margin: 0 0.4em 0.5em 0.4em;box-sizing: border-box;padding-bottom: 0.4em;background-color: white;}#sk-container-id-8 div.sk-label label {font-family: monospace;font-weight: bold;display: inline-block;line-height: 1.2em;}#sk-container-id-8 div.sk-label-container {text-align: center;}#sk-container-id-8 div.sk-container {/* jupyter's `normalize.less` sets `[hidden] { display: none; }` but bootstrap.min.css set `[hidden] { display: none !important; }` so we also need the `!important` here to be able to override the default hidden behavior on the sphinx rendered scikit-learn.org. See: https://github.com/scikit-learn/scikit-learn/issues/21755 */display: inline-block !important;position: relative;}#sk-container-id-8 div.sk-text-repr-fallback {display: none;}</style><div id=\"sk-container-id-8\" class=\"sk-top-container\"><div class=\"sk-text-repr-fallback\"><pre>GridSearchCV(estimator=LogisticRegression(),\n",
       "             param_grid=[{&#x27;fit_intercept&#x27;: [True, False],\n",
       "                          &#x27;intercept_scaling&#x27;: [1.5, 2.0, 2.5, 3.0, 3.5, 4.0],\n",
       "                          &#x27;max_iter&#x27;: [100, 150, 200, 250, 300],\n",
       "                          &#x27;penalty&#x27;: [&#x27;l1&#x27;, &#x27;l2&#x27;, &#x27;elasticnet&#x27;, &#x27;none&#x27;],\n",
       "                          &#x27;solver&#x27;: [&#x27;newton-cg&#x27;, &#x27;lbfgs&#x27;, &#x27;liblinear&#x27;, &#x27;sag&#x27;,\n",
       "                                     &#x27;saga&#x27;]}])</pre><b>In a Jupyter environment, please rerun this cell to show the HTML representation or trust the notebook. <br />On GitHub, the HTML representation is unable to render, please try loading this page with nbviewer.org.</b></div><div class=\"sk-container\" hidden><div class=\"sk-item sk-dashed-wrapped\"><div class=\"sk-label-container\"><div class=\"sk-label sk-toggleable\"><input class=\"sk-toggleable__control sk-hidden--visually\" id=\"sk-estimator-id-10\" type=\"checkbox\" ><label for=\"sk-estimator-id-10\" class=\"sk-toggleable__label sk-toggleable__label-arrow\">GridSearchCV</label><div class=\"sk-toggleable__content\"><pre>GridSearchCV(estimator=LogisticRegression(),\n",
       "             param_grid=[{&#x27;fit_intercept&#x27;: [True, False],\n",
       "                          &#x27;intercept_scaling&#x27;: [1.5, 2.0, 2.5, 3.0, 3.5, 4.0],\n",
       "                          &#x27;max_iter&#x27;: [100, 150, 200, 250, 300],\n",
       "                          &#x27;penalty&#x27;: [&#x27;l1&#x27;, &#x27;l2&#x27;, &#x27;elasticnet&#x27;, &#x27;none&#x27;],\n",
       "                          &#x27;solver&#x27;: [&#x27;newton-cg&#x27;, &#x27;lbfgs&#x27;, &#x27;liblinear&#x27;, &#x27;sag&#x27;,\n",
       "                                     &#x27;saga&#x27;]}])</pre></div></div></div><div class=\"sk-parallel\"><div class=\"sk-parallel-item\"><div class=\"sk-item\"><div class=\"sk-label-container\"><div class=\"sk-label sk-toggleable\"><input class=\"sk-toggleable__control sk-hidden--visually\" id=\"sk-estimator-id-11\" type=\"checkbox\" ><label for=\"sk-estimator-id-11\" class=\"sk-toggleable__label sk-toggleable__label-arrow\">estimator: LogisticRegression</label><div class=\"sk-toggleable__content\"><pre>LogisticRegression()</pre></div></div></div><div class=\"sk-serial\"><div class=\"sk-item\"><div class=\"sk-estimator sk-toggleable\"><input class=\"sk-toggleable__control sk-hidden--visually\" id=\"sk-estimator-id-12\" type=\"checkbox\" ><label for=\"sk-estimator-id-12\" class=\"sk-toggleable__label sk-toggleable__label-arrow\">LogisticRegression</label><div class=\"sk-toggleable__content\"><pre>LogisticRegression()</pre></div></div></div></div></div></div></div></div></div></div>"
      ],
      "text/plain": [
       "GridSearchCV(estimator=LogisticRegression(),\n",
       "             param_grid=[{'fit_intercept': [True, False],\n",
       "                          'intercept_scaling': [1.5, 2.0, 2.5, 3.0, 3.5, 4.0],\n",
       "                          'max_iter': [100, 150, 200, 250, 300],\n",
       "                          'penalty': ['l1', 'l2', 'elasticnet', 'none'],\n",
       "                          'solver': ['newton-cg', 'lbfgs', 'liblinear', 'sag',\n",
       "                                     'saga']}])"
      ]
     },
     "execution_count": 376,
     "metadata": {},
     "output_type": "execute_result"
    }
   ],
   "source": [
    "grid.fit(x_train,y_train)"
   ]
  },
  {
   "cell_type": "code",
   "execution_count": 377,
   "id": "4753cc44",
   "metadata": {},
   "outputs": [
    {
     "data": {
      "text/plain": [
       "{'fit_intercept': True,\n",
       " 'intercept_scaling': 1.5,\n",
       " 'max_iter': 100,\n",
       " 'penalty': 'l1',\n",
       " 'solver': 'liblinear'}"
      ]
     },
     "execution_count": 377,
     "metadata": {},
     "output_type": "execute_result"
    }
   ],
   "source": [
    "#best parameters for tuning\n",
    "grid.best_params_"
   ]
  },
  {
   "cell_type": "code",
   "execution_count": 371,
   "id": "5c9fd045",
   "metadata": {},
   "outputs": [],
   "source": [
    "#using best parameters to train \n",
    "lr1=LogisticRegression(fit_intercept=True,\n",
    "                           intercept_scaling=1.5,\n",
    "                           max_iter=100,\n",
    "                           penalty='l1',\n",
    "                      solver='liblinear')"
   ]
  },
  {
   "cell_type": "code",
   "execution_count": 372,
   "id": "118e8813",
   "metadata": {},
   "outputs": [
    {
     "data": {
      "text/html": [
       "<style>#sk-container-id-7 {color: black;background-color: white;}#sk-container-id-7 pre{padding: 0;}#sk-container-id-7 div.sk-toggleable {background-color: white;}#sk-container-id-7 label.sk-toggleable__label {cursor: pointer;display: block;width: 100%;margin-bottom: 0;padding: 0.3em;box-sizing: border-box;text-align: center;}#sk-container-id-7 label.sk-toggleable__label-arrow:before {content: \"▸\";float: left;margin-right: 0.25em;color: #696969;}#sk-container-id-7 label.sk-toggleable__label-arrow:hover:before {color: black;}#sk-container-id-7 div.sk-estimator:hover label.sk-toggleable__label-arrow:before {color: black;}#sk-container-id-7 div.sk-toggleable__content {max-height: 0;max-width: 0;overflow: hidden;text-align: left;background-color: #f0f8ff;}#sk-container-id-7 div.sk-toggleable__content pre {margin: 0.2em;color: black;border-radius: 0.25em;background-color: #f0f8ff;}#sk-container-id-7 input.sk-toggleable__control:checked~div.sk-toggleable__content {max-height: 200px;max-width: 100%;overflow: auto;}#sk-container-id-7 input.sk-toggleable__control:checked~label.sk-toggleable__label-arrow:before {content: \"▾\";}#sk-container-id-7 div.sk-estimator input.sk-toggleable__control:checked~label.sk-toggleable__label {background-color: #d4ebff;}#sk-container-id-7 div.sk-label input.sk-toggleable__control:checked~label.sk-toggleable__label {background-color: #d4ebff;}#sk-container-id-7 input.sk-hidden--visually {border: 0;clip: rect(1px 1px 1px 1px);clip: rect(1px, 1px, 1px, 1px);height: 1px;margin: -1px;overflow: hidden;padding: 0;position: absolute;width: 1px;}#sk-container-id-7 div.sk-estimator {font-family: monospace;background-color: #f0f8ff;border: 1px dotted black;border-radius: 0.25em;box-sizing: border-box;margin-bottom: 0.5em;}#sk-container-id-7 div.sk-estimator:hover {background-color: #d4ebff;}#sk-container-id-7 div.sk-parallel-item::after {content: \"\";width: 100%;border-bottom: 1px solid gray;flex-grow: 1;}#sk-container-id-7 div.sk-label:hover label.sk-toggleable__label {background-color: #d4ebff;}#sk-container-id-7 div.sk-serial::before {content: \"\";position: absolute;border-left: 1px solid gray;box-sizing: border-box;top: 0;bottom: 0;left: 50%;z-index: 0;}#sk-container-id-7 div.sk-serial {display: flex;flex-direction: column;align-items: center;background-color: white;padding-right: 0.2em;padding-left: 0.2em;position: relative;}#sk-container-id-7 div.sk-item {position: relative;z-index: 1;}#sk-container-id-7 div.sk-parallel {display: flex;align-items: stretch;justify-content: center;background-color: white;position: relative;}#sk-container-id-7 div.sk-item::before, #sk-container-id-7 div.sk-parallel-item::before {content: \"\";position: absolute;border-left: 1px solid gray;box-sizing: border-box;top: 0;bottom: 0;left: 50%;z-index: -1;}#sk-container-id-7 div.sk-parallel-item {display: flex;flex-direction: column;z-index: 1;position: relative;background-color: white;}#sk-container-id-7 div.sk-parallel-item:first-child::after {align-self: flex-end;width: 50%;}#sk-container-id-7 div.sk-parallel-item:last-child::after {align-self: flex-start;width: 50%;}#sk-container-id-7 div.sk-parallel-item:only-child::after {width: 0;}#sk-container-id-7 div.sk-dashed-wrapped {border: 1px dashed gray;margin: 0 0.4em 0.5em 0.4em;box-sizing: border-box;padding-bottom: 0.4em;background-color: white;}#sk-container-id-7 div.sk-label label {font-family: monospace;font-weight: bold;display: inline-block;line-height: 1.2em;}#sk-container-id-7 div.sk-label-container {text-align: center;}#sk-container-id-7 div.sk-container {/* jupyter's `normalize.less` sets `[hidden] { display: none; }` but bootstrap.min.css set `[hidden] { display: none !important; }` so we also need the `!important` here to be able to override the default hidden behavior on the sphinx rendered scikit-learn.org. See: https://github.com/scikit-learn/scikit-learn/issues/21755 */display: inline-block !important;position: relative;}#sk-container-id-7 div.sk-text-repr-fallback {display: none;}</style><div id=\"sk-container-id-7\" class=\"sk-top-container\"><div class=\"sk-text-repr-fallback\"><pre>LogisticRegression(intercept_scaling=1.5, penalty=&#x27;l1&#x27;, solver=&#x27;liblinear&#x27;)</pre><b>In a Jupyter environment, please rerun this cell to show the HTML representation or trust the notebook. <br />On GitHub, the HTML representation is unable to render, please try loading this page with nbviewer.org.</b></div><div class=\"sk-container\" hidden><div class=\"sk-item\"><div class=\"sk-estimator sk-toggleable\"><input class=\"sk-toggleable__control sk-hidden--visually\" id=\"sk-estimator-id-9\" type=\"checkbox\" checked><label for=\"sk-estimator-id-9\" class=\"sk-toggleable__label sk-toggleable__label-arrow\">LogisticRegression</label><div class=\"sk-toggleable__content\"><pre>LogisticRegression(intercept_scaling=1.5, penalty=&#x27;l1&#x27;, solver=&#x27;liblinear&#x27;)</pre></div></div></div></div></div>"
      ],
      "text/plain": [
       "LogisticRegression(intercept_scaling=1.5, penalty='l1', solver='liblinear')"
      ]
     },
     "execution_count": 372,
     "metadata": {},
     "output_type": "execute_result"
    }
   ],
   "source": [
    "lr1.fit(x_train,y_train)"
   ]
  },
  {
   "cell_type": "code",
   "execution_count": 373,
   "id": "cea903bc",
   "metadata": {
    "scrolled": true
   },
   "outputs": [
    {
     "name": "stdout",
     "output_type": "stream",
     "text": [
      "-----Training score-----\n",
      "Accuracy score:76.72%\n",
      "-----Testing score-----\n",
      "Accuracy score:77.09%\n",
      "classification report \n",
      "               precision    recall  f1-score   support\n",
      "\n",
      "           0       0.80      0.59      0.68        74\n",
      "           1       0.76      0.90      0.82       105\n",
      "\n",
      "    accuracy                           0.77       179\n",
      "   macro avg       0.78      0.74      0.75       179\n",
      "weighted avg       0.78      0.77      0.76       179\n",
      "\n",
      "confusion matrix  [[44 30]\n",
      " [11 94]]\n",
      "F1 Score  0.8209606986899562\n"
     ]
    }
   ],
   "source": [
    "#passing the function\n",
    "metric_score(lr1,x_train,x_test,y_train,y_test,train=True) # this is for training score\n",
    "\n",
    "metric_score(lr1,x_train,x_test,y_train,y_test,train=False) # this is for testing score"
   ]
  },
  {
   "cell_type": "code",
   "execution_count": 378,
   "id": "8e5be571",
   "metadata": {},
   "outputs": [
    {
     "name": "stdout",
     "output_type": "stream",
     "text": [
      "Cross Validation Score for tuned Linear Regression model :-  75.55414282687009\n"
     ]
    }
   ],
   "source": [
    "#cross validation score\n",
    "print('Cross Validation Score for tuned Linear Regression model :- ',((cross_val_score(lr1,x_new,y_new,cv=11).mean())*100))"
   ]
  },
  {
   "cell_type": "code",
   "execution_count": 379,
   "id": "189f6d57",
   "metadata": {},
   "outputs": [
    {
     "name": "stdout",
     "output_type": "stream",
     "text": [
      "fpr [0.         0.40540541 1.        ]\n",
      "tpr [0.        0.8952381 1.       ]\n",
      "threshold [2 1 0]\n"
     ]
    }
   ],
   "source": [
    "#plotting ROC curve\n",
    "\n",
    "\n",
    "pred=lr1.predict(x_test)\n",
    "fpr,tpr,threshold=roc_curve(y_test,pred)\n",
    "print('fpr',fpr)\n",
    "print('tpr',tpr)\n",
    "print('threshold',threshold)"
   ]
  },
  {
   "cell_type": "code",
   "execution_count": 380,
   "id": "a92ce901",
   "metadata": {},
   "outputs": [
    {
     "data": {
      "image/png": "[encoded data removed]",
      "text/plain": [
       "<Figure size 432x288 with 1 Axes>"
      ]
     },
     "metadata": {
      "needs_background": "light"
     },
     "output_type": "display_data"
    }
   ],
   "source": [
    "plt.plot(fpr,tpr,color='darkorange',label='ROC curve')\n",
    "plt.plot([0,1],[0,1],color='green',linestyle='--')\n",
    "plt.xlabel('False positive rate')\n",
    "plt.ylabel('True positive rate')\n",
    "plt.title('Receiver Operating Curve')\n",
    "plt.legend()\n",
    "plt.show()"
   ]
  },
  {
   "cell_type": "markdown",
   "id": "4c2544d7",
   "metadata": {},
   "source": [
    "- The tuned model has lower training and higher testing accuracy hence according to me the best model is the original Linear Regression model as it has same train,testing and cross validation scores, hence saving that model.\n",
    "\n",
    "- # Saving the model"
   ]
  },
  {
   "cell_type": "code",
   "execution_count": 381,
   "id": "cf98b7af",
   "metadata": {},
   "outputs": [],
   "source": [
    "import pickle"
   ]
  },
  {
   "cell_type": "code",
   "execution_count": 382,
   "id": "92d09e45",
   "metadata": {},
   "outputs": [],
   "source": [
    "pickle.dump(lr1,open('Loan_status_lr','wb'))"
   ]
  },
  {
   "cell_type": "code",
   "execution_count": null,
   "id": "e67060da",
   "metadata": {},
   "outputs": [],
   "source": []
  }
 ],
 "metadata": {
  "kernelspec": {
   "display_name": "Python 3 (ipykernel)",
   "language": "python",
   "name": "python3"
  },
  "language_info": {
   "codemirror_mode": {
    "name": "ipython",
    "version": 3
   },
   "file_extension": ".py",
   "mimetype": "text/x-python",
   "name": "python",
   "nbconvert_exporter": "python",
   "pygments_lexer": "ipython3",
   "version": "3.9.12"
  }
 },
 "nbformat": 4,
 "nbformat_minor": 5
}
